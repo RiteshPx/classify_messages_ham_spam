{
<<<<<<< HEAD
 "cells": [
  {
   "cell_type": "code",
   "execution_count": 22,
   "id": "cbac980a",
   "metadata": {},
   "outputs": [],
   "source": [
    "import pandas as pd\n",
    "import numpy as np\n",
    "import matplotlib.pyplot as plt\n",
    "import seaborn as sns\n"
   ]
  },
  {
   "cell_type": "code",
   "execution_count": 8,
   "id": "f3d57d03",
   "metadata": {},
   "outputs": [
    {
     "data": {
      "text/html": [
       "<div>\n",
       "<style scoped>\n",
       "    .dataframe tbody tr th:only-of-type {\n",
       "        vertical-align: middle;\n",
       "    }\n",
       "\n",
       "    .dataframe tbody tr th {\n",
       "        vertical-align: top;\n",
       "    }\n",
       "\n",
       "    .dataframe thead th {\n",
       "        text-align: right;\n",
       "    }\n",
       "</style>\n",
       "<table border=\"1\" class=\"dataframe\">\n",
       "  <thead>\n",
       "    <tr style=\"text-align: right;\">\n",
       "      <th></th>\n",
       "      <th>Label</th>\n",
       "      <th>Message</th>\n",
       "    </tr>\n",
       "  </thead>\n",
       "  <tbody>\n",
       "    <tr>\n",
       "      <th>0</th>\n",
       "      <td>ham</td>\n",
       "      <td>Go until jurong point, crazy.. Available only ...</td>\n",
       "    </tr>\n",
       "    <tr>\n",
       "      <th>1</th>\n",
       "      <td>ham</td>\n",
       "      <td>Ok lar... Joking wif u oni...</td>\n",
       "    </tr>\n",
       "    <tr>\n",
       "      <th>2</th>\n",
       "      <td>spam</td>\n",
       "      <td>Free entry in 2 a wkly comp to win FA Cup fina...</td>\n",
       "    </tr>\n",
       "    <tr>\n",
       "      <th>3</th>\n",
       "      <td>ham</td>\n",
       "      <td>U dun say so early hor... U c already then say...</td>\n",
       "    </tr>\n",
       "    <tr>\n",
       "      <th>4</th>\n",
       "      <td>ham</td>\n",
       "      <td>Nah I don't think he goes to usf, he lives aro...</td>\n",
       "    </tr>\n",
       "    <tr>\n",
       "      <th>...</th>\n",
       "      <td>...</td>\n",
       "      <td>...</td>\n",
       "    </tr>\n",
       "    <tr>\n",
       "      <th>5567</th>\n",
       "      <td>spam</td>\n",
       "      <td>This is the 2nd time we have tried 2 contact u...</td>\n",
       "    </tr>\n",
       "    <tr>\n",
       "      <th>5568</th>\n",
       "      <td>ham</td>\n",
       "      <td>Will �_ b going to esplanade fr home?</td>\n",
       "    </tr>\n",
       "    <tr>\n",
       "      <th>5569</th>\n",
       "      <td>ham</td>\n",
       "      <td>Pity, * was in mood for that. So...any other s...</td>\n",
       "    </tr>\n",
       "    <tr>\n",
       "      <th>5570</th>\n",
       "      <td>ham</td>\n",
       "      <td>The guy did some bitching but I acted like i'd...</td>\n",
       "    </tr>\n",
       "    <tr>\n",
       "      <th>5571</th>\n",
       "      <td>ham</td>\n",
       "      <td>Rofl. Its true to its name</td>\n",
       "    </tr>\n",
       "  </tbody>\n",
       "</table>\n",
       "<p>5572 rows × 2 columns</p>\n",
       "</div>"
      ],
      "text/plain": [
       "     Label                                            Message\n",
       "0      ham  Go until jurong point, crazy.. Available only ...\n",
       "1      ham                      Ok lar... Joking wif u oni...\n",
       "2     spam  Free entry in 2 a wkly comp to win FA Cup fina...\n",
       "3      ham  U dun say so early hor... U c already then say...\n",
       "4      ham  Nah I don't think he goes to usf, he lives aro...\n",
       "...    ...                                                ...\n",
       "5567  spam  This is the 2nd time we have tried 2 contact u...\n",
       "5568   ham              Will �_ b going to esplanade fr home?\n",
       "5569   ham  Pity, * was in mood for that. So...any other s...\n",
       "5570   ham  The guy did some bitching but I acted like i'd...\n",
       "5571   ham                         Rofl. Its true to its name\n",
       "\n",
       "[5572 rows x 2 columns]"
      ]
     },
     "execution_count": 8,
     "metadata": {},
     "output_type": "execute_result"
    }
   ],
   "source": [
    "data = pd.read_csv(\"sms.csv\",usecols=[0,1])\n",
    "data"
   ]
  },
  {
   "cell_type": "code",
   "execution_count": 10,
   "id": "7d4532d3",
   "metadata": {},
   "outputs": [
    {
     "data": {
      "text/plain": [
       "Label      0\n",
       "Message    0\n",
       "dtype: int64"
      ]
     },
     "execution_count": 10,
     "metadata": {},
     "output_type": "execute_result"
    }
   ],
   "source": [
    "data.isnull().sum()"
   ]
  },
  {
   "cell_type": "code",
   "execution_count": 16,
   "id": "979bb8a5",
   "metadata": {},
   "outputs": [
    {
     "data": {
      "text/plain": [
       "np.int64(403)"
      ]
     },
     "execution_count": 16,
     "metadata": {},
     "output_type": "execute_result"
    }
   ],
   "source": [
    "data.duplicated().sum()"
   ]
  },
  {
   "cell_type": "code",
   "execution_count": 21,
   "id": "a4d6bc9b",
   "metadata": {},
   "outputs": [
    {
     "data": {
      "text/plain": [
       "np.int64(0)"
      ]
     },
     "execution_count": 21,
     "metadata": {},
     "output_type": "execute_result"
    }
   ],
   "source": [
    "data.drop_duplicates(inplace=True)\n",
    "data.reset_index(drop=True,inplace=True)\n",
    "data.duplicated().sum()"
   ]
  },
  {
   "cell_type": "code",
   "execution_count": 19,
   "id": "b3e76aba",
   "metadata": {},
   "outputs": [
    {
     "data": {
      "text/plain": [
       "(5169, 2)"
      ]
     },
     "execution_count": 19,
     "metadata": {},
     "output_type": "execute_result"
    }
   ],
   "source": [
    "data.shape"
   ]
  },
  {
   "cell_type": "code",
   "execution_count": 20,
   "id": "d48d4125",
   "metadata": {},
   "outputs": [
    {
     "data": {
      "text/plain": [
       "Label\n",
       "ham     87.366996\n",
       "spam    12.633004\n",
       "Name: proportion, dtype: float64"
      ]
     },
     "execution_count": 20,
     "metadata": {},
     "output_type": "execute_result"
    }
   ],
   "source": [
    "data[\"Label\"].value_counts(normalize=True)*100"
   ]
  },
  {
   "cell_type": "code",
   "execution_count": 26,
   "id": "8a5c8a17",
   "metadata": {},
   "outputs": [
    {
     "data": {
      "text/plain": [
       "([<matplotlib.patches.Wedge at 0x1ff385daef0>,\n",
       "  <matplotlib.patches.Wedge at 0x1ff385dae30>],\n",
       " [Text(-1.014499732282844, 0.4251944181172162, 'ham'),\n",
       "  Text(1.0144998708287172, -0.42519408755122207, 'spam')],\n",
       " [Text(-0.5533634903360967, 0.2319242280639361, '87.37%'),\n",
       "  Text(0.553363565906573, -0.231924047755212, '12.63%')])"
      ]
     },
     "execution_count": 26,
     "metadata": {},
     "output_type": "execute_result"
    },
    {
     "data": {
      "image/png": "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",
      "text/plain": [
       "<Figure size 640x480 with 1 Axes>"
      ]
     },
     "metadata": {},
     "output_type": "display_data"
    }
   ],
   "source": [
    "plt.pie(data[\"Label\"].value_counts()*100,labels=[\"ham\",\"spam\"],autopct=\"%1.2f%%\")"
   ]
  },
  {
   "cell_type": "code",
   "execution_count": 7,
   "id": "397aa07d",
   "metadata": {},
   "outputs": [
    {
     "ename": "TypeError",
     "evalue": "unhashable type: 'numpy.ndarray'",
     "output_type": "error",
     "traceback": [
      "\u001b[1;31m---------------------------------------------------------------------------\u001b[0m",
      "\u001b[1;31mTypeError\u001b[0m                                 Traceback (most recent call last)",
      "Cell \u001b[1;32mIn[7], line 6\u001b[0m\n\u001b[0;32m      3\u001b[0m b\u001b[38;5;241m=\u001b[39mnp\u001b[38;5;241m.\u001b[39marray([\u001b[38;5;241m1\u001b[39m,\u001b[38;5;241m2\u001b[39m,\u001b[38;5;241m3\u001b[39m,\u001b[38;5;241m4\u001b[39m,\u001b[38;5;241m5\u001b[39m])\n\u001b[0;32m      5\u001b[0m \u001b[38;5;28;01mimport\u001b[39;00m\u001b[38;5;250m \u001b[39m\u001b[38;5;21;01mpandas\u001b[39;00m\u001b[38;5;250m \u001b[39m\u001b[38;5;28;01mas\u001b[39;00m\u001b[38;5;250m \u001b[39m\u001b[38;5;21;01mpd\u001b[39;00m\n\u001b[1;32m----> 6\u001b[0m df \u001b[38;5;241m=\u001b[39mpd\u001b[38;5;241m.\u001b[39mDataFrame({a,b})\n\u001b[0;32m      7\u001b[0m df\n",
      "\u001b[1;31mTypeError\u001b[0m: unhashable type: 'numpy.ndarray'"
     ]
    }
   ],
   "source": [
    "import numpy as np\n",
    "a=np.array([1,2,3.4,4,34])\n",
    "b=np.array([1,2,3,4,5])\n",
    "\n",
    "import pandas as pd\n",
    "df =pd.DataFrame({a,b})\n",
    "df"
   ]
  },
  {
   "cell_type": "code",
   "execution_count": null,
   "id": "a73ff67c",
   "metadata": {},
   "outputs": [],
   "source": []
  }
 ],
 "metadata": {
  "kernelspec": {
   "display_name": "Python 3.10 (venv310)",
   "language": "python",
   "name": "venv310"
  },
  "language_info": {
   "codemirror_mode": {
    "name": "ipython",
    "version": 3
   },
   "file_extension": ".py",
   "mimetype": "text/x-python",
   "name": "python",
   "nbconvert_exporter": "python",
   "pygments_lexer": "ipython3",
   "version": "3.10.11"
  }
 },
 "nbformat": 4,
 "nbformat_minor": 5
}
=======
  "cells": [
    {
      "cell_type": "markdown",
      "metadata": {
        "id": "view-in-github",
        "colab_type": "text"
      },
      "source": [
        "<a href=\"https://colab.research.google.com/github/RiteshPx/classify_messages_ham_spam/blob/main/notebooks/eda.ipynb\" target=\"_parent\"><img src=\"https://colab.research.google.com/assets/colab-badge.svg\" alt=\"Open In Colab\"/></a>"
      ]
    },
    {
      "cell_type": "code",
      "execution_count": 1,
      "id": "cbac980a",
      "metadata": {
        "id": "cbac980a"
      },
      "outputs": [],
      "source": [
        "import pandas as pd\n",
        "import numpy as np\n",
        "import matplotlib.pyplot as plt\n",
        "import seaborn as sns\n"
      ]
    },
    {
      "cell_type": "code",
      "execution_count": 2,
      "id": "f3d57d03",
      "metadata": {
        "id": "f3d57d03",
        "outputId": "9cd56209-f781-4b57-ca70-c5b07ffcb222",
        "colab": {
          "base_uri": "https://localhost:8080/",
          "height": 423
        }
      },
      "outputs": [
        {
          "output_type": "execute_result",
          "data": {
            "text/plain": [
              "     Label                                            Message\n",
              "0      ham  Go until jurong point, crazy.. Available only ...\n",
              "1      ham                      Ok lar... Joking wif u oni...\n",
              "2     spam  Free entry in 2 a wkly comp to win FA Cup fina...\n",
              "3      ham  U dun say so early hor... U c already then say...\n",
              "4      ham  Nah I don't think he goes to usf, he lives aro...\n",
              "...    ...                                                ...\n",
              "5567  spam  This is the 2nd time we have tried 2 contact u...\n",
              "5568   ham              Will �_ b going to esplanade fr home?\n",
              "5569   ham  Pity, * was in mood for that. So...any other s...\n",
              "5570   ham  The guy did some bitching but I acted like i'd...\n",
              "5571   ham                         Rofl. Its true to its name\n",
              "\n",
              "[5572 rows x 2 columns]"
            ],
            "text/html": [
              "\n",
              "  <div id=\"df-e155b625-b3ba-43b1-b099-9cdd5dcd4bc4\" class=\"colab-df-container\">\n",
              "    <div>\n",
              "<style scoped>\n",
              "    .dataframe tbody tr th:only-of-type {\n",
              "        vertical-align: middle;\n",
              "    }\n",
              "\n",
              "    .dataframe tbody tr th {\n",
              "        vertical-align: top;\n",
              "    }\n",
              "\n",
              "    .dataframe thead th {\n",
              "        text-align: right;\n",
              "    }\n",
              "</style>\n",
              "<table border=\"1\" class=\"dataframe\">\n",
              "  <thead>\n",
              "    <tr style=\"text-align: right;\">\n",
              "      <th></th>\n",
              "      <th>Label</th>\n",
              "      <th>Message</th>\n",
              "    </tr>\n",
              "  </thead>\n",
              "  <tbody>\n",
              "    <tr>\n",
              "      <th>0</th>\n",
              "      <td>ham</td>\n",
              "      <td>Go until jurong point, crazy.. Available only ...</td>\n",
              "    </tr>\n",
              "    <tr>\n",
              "      <th>1</th>\n",
              "      <td>ham</td>\n",
              "      <td>Ok lar... Joking wif u oni...</td>\n",
              "    </tr>\n",
              "    <tr>\n",
              "      <th>2</th>\n",
              "      <td>spam</td>\n",
              "      <td>Free entry in 2 a wkly comp to win FA Cup fina...</td>\n",
              "    </tr>\n",
              "    <tr>\n",
              "      <th>3</th>\n",
              "      <td>ham</td>\n",
              "      <td>U dun say so early hor... U c already then say...</td>\n",
              "    </tr>\n",
              "    <tr>\n",
              "      <th>4</th>\n",
              "      <td>ham</td>\n",
              "      <td>Nah I don't think he goes to usf, he lives aro...</td>\n",
              "    </tr>\n",
              "    <tr>\n",
              "      <th>...</th>\n",
              "      <td>...</td>\n",
              "      <td>...</td>\n",
              "    </tr>\n",
              "    <tr>\n",
              "      <th>5567</th>\n",
              "      <td>spam</td>\n",
              "      <td>This is the 2nd time we have tried 2 contact u...</td>\n",
              "    </tr>\n",
              "    <tr>\n",
              "      <th>5568</th>\n",
              "      <td>ham</td>\n",
              "      <td>Will �_ b going to esplanade fr home?</td>\n",
              "    </tr>\n",
              "    <tr>\n",
              "      <th>5569</th>\n",
              "      <td>ham</td>\n",
              "      <td>Pity, * was in mood for that. So...any other s...</td>\n",
              "    </tr>\n",
              "    <tr>\n",
              "      <th>5570</th>\n",
              "      <td>ham</td>\n",
              "      <td>The guy did some bitching but I acted like i'd...</td>\n",
              "    </tr>\n",
              "    <tr>\n",
              "      <th>5571</th>\n",
              "      <td>ham</td>\n",
              "      <td>Rofl. Its true to its name</td>\n",
              "    </tr>\n",
              "  </tbody>\n",
              "</table>\n",
              "<p>5572 rows × 2 columns</p>\n",
              "</div>\n",
              "    <div class=\"colab-df-buttons\">\n",
              "      \n",
              "  <div class=\"colab-df-container\">\n",
              "    <button class=\"colab-df-convert\" onclick=\"convertToInteractive('df-e155b625-b3ba-43b1-b099-9cdd5dcd4bc4')\"\n",
              "            title=\"Convert this dataframe to an interactive table.\"\n",
              "            style=\"display:none;\">\n",
              "      \n",
              "  <svg xmlns=\"http://www.w3.org/2000/svg\" height=\"24px\" viewBox=\"0 -960 960 960\">\n",
              "    <path d=\"M120-120v-720h720v720H120Zm60-500h600v-160H180v160Zm220 220h160v-160H400v160Zm0 220h160v-160H400v160ZM180-400h160v-160H180v160Zm440 0h160v-160H620v160ZM180-180h160v-160H180v160Zm440 0h160v-160H620v160Z\"/>\n",
              "  </svg>\n",
              "    </button>\n",
              "    \n",
              "  <style>\n",
              "    .colab-df-container {\n",
              "      display:flex;\n",
              "      gap: 12px;\n",
              "    }\n",
              "\n",
              "    .colab-df-convert {\n",
              "      background-color: #E8F0FE;\n",
              "      border: none;\n",
              "      border-radius: 50%;\n",
              "      cursor: pointer;\n",
              "      display: none;\n",
              "      fill: #1967D2;\n",
              "      height: 32px;\n",
              "      padding: 0 0 0 0;\n",
              "      width: 32px;\n",
              "    }\n",
              "\n",
              "    .colab-df-convert:hover {\n",
              "      background-color: #E2EBFA;\n",
              "      box-shadow: 0px 1px 2px rgba(60, 64, 67, 0.3), 0px 1px 3px 1px rgba(60, 64, 67, 0.15);\n",
              "      fill: #174EA6;\n",
              "    }\n",
              "\n",
              "    .colab-df-buttons div {\n",
              "      margin-bottom: 4px;\n",
              "    }\n",
              "\n",
              "    [theme=dark] .colab-df-convert {\n",
              "      background-color: #3B4455;\n",
              "      fill: #D2E3FC;\n",
              "    }\n",
              "\n",
              "    [theme=dark] .colab-df-convert:hover {\n",
              "      background-color: #434B5C;\n",
              "      box-shadow: 0px 1px 3px 1px rgba(0, 0, 0, 0.15);\n",
              "      filter: drop-shadow(0px 1px 2px rgba(0, 0, 0, 0.3));\n",
              "      fill: #FFFFFF;\n",
              "    }\n",
              "  </style>\n",
              "\n",
              "    <script>\n",
              "      const buttonEl =\n",
              "        document.querySelector('#df-e155b625-b3ba-43b1-b099-9cdd5dcd4bc4 button.colab-df-convert');\n",
              "      buttonEl.style.display =\n",
              "        google.colab.kernel.accessAllowed ? 'block' : 'none';\n",
              "\n",
              "      async function convertToInteractive(key) {\n",
              "        const element = document.querySelector('#df-e155b625-b3ba-43b1-b099-9cdd5dcd4bc4');\n",
              "        const dataTable =\n",
              "          await google.colab.kernel.invokeFunction('convertToInteractive',\n",
              "                                                    [key], {});\n",
              "        if (!dataTable) return;\n",
              "\n",
              "        const docLinkHtml = 'Like what you see? Visit the ' +\n",
              "          '<a target=\"_blank\" href=https://colab.research.google.com/notebooks/data_table.ipynb>data table notebook</a>'\n",
              "          + ' to learn more about interactive tables.';\n",
              "        element.innerHTML = '';\n",
              "        dataTable['output_type'] = 'display_data';\n",
              "        await google.colab.output.renderOutput(dataTable, element);\n",
              "        const docLink = document.createElement('div');\n",
              "        docLink.innerHTML = docLinkHtml;\n",
              "        element.appendChild(docLink);\n",
              "      }\n",
              "    </script>\n",
              "  </div>\n",
              "  \n",
              "    </div>\n",
              "  </div>\n",
              "  "
            ]
          },
          "metadata": {},
          "execution_count": 2
        }
      ],
      "source": [
        "sms = pd.read_csv(\"sms.csv\",usecols=[0,1])\n",
        "sms"
      ]
    },
    {
      "cell_type": "code",
      "execution_count": 3,
      "id": "7d4532d3",
      "metadata": {
        "id": "7d4532d3",
        "outputId": "cfd45087-d6e9-4c29-d0dd-0a29d3918a51",
        "colab": {
          "base_uri": "https://localhost:8080/",
          "height": 147
        }
      },
      "outputs": [
        {
          "output_type": "execute_result",
          "data": {
            "text/plain": [
              "Label      0\n",
              "Message    0\n",
              "dtype: int64"
            ],
            "text/html": [
              "<div>\n",
              "<style scoped>\n",
              "    .dataframe tbody tr th:only-of-type {\n",
              "        vertical-align: middle;\n",
              "    }\n",
              "\n",
              "    .dataframe tbody tr th {\n",
              "        vertical-align: top;\n",
              "    }\n",
              "\n",
              "    .dataframe thead th {\n",
              "        text-align: right;\n",
              "    }\n",
              "</style>\n",
              "<table border=\"1\" class=\"dataframe\">\n",
              "  <thead>\n",
              "    <tr style=\"text-align: right;\">\n",
              "      <th></th>\n",
              "      <th>0</th>\n",
              "    </tr>\n",
              "  </thead>\n",
              "  <tbody>\n",
              "    <tr>\n",
              "      <th>Label</th>\n",
              "      <td>0</td>\n",
              "    </tr>\n",
              "    <tr>\n",
              "      <th>Message</th>\n",
              "      <td>0</td>\n",
              "    </tr>\n",
              "  </tbody>\n",
              "</table>\n",
              "</div><br><label><b>dtype:</b> int64</label>"
            ]
          },
          "metadata": {},
          "execution_count": 3
        }
      ],
      "source": [
        "sms.isnull().sum()"
      ]
    },
    {
      "cell_type": "code",
      "execution_count": 4,
      "id": "979bb8a5",
      "metadata": {
        "id": "979bb8a5",
        "outputId": "29554bf1-b267-4f9d-b078-a54217b3b53f",
        "colab": {
          "base_uri": "https://localhost:8080/"
        }
      },
      "outputs": [
        {
          "output_type": "execute_result",
          "data": {
            "text/plain": [
              "np.int64(403)"
            ]
          },
          "metadata": {},
          "execution_count": 4
        }
      ],
      "source": [
        "sms.duplicated().sum()"
      ]
    },
    {
      "cell_type": "code",
      "execution_count": 5,
      "id": "a4d6bc9b",
      "metadata": {
        "id": "a4d6bc9b",
        "outputId": "47140370-c00e-4d06-a3d2-c90447244810",
        "colab": {
          "base_uri": "https://localhost:8080/"
        }
      },
      "outputs": [
        {
          "output_type": "execute_result",
          "data": {
            "text/plain": [
              "np.int64(0)"
            ]
          },
          "metadata": {},
          "execution_count": 5
        }
      ],
      "source": [
        "sms.drop_duplicates(inplace=True)\n",
        "sms.reset_index(drop=True,inplace=True)\n",
        "sms.duplicated().sum()"
      ]
    },
    {
      "cell_type": "code",
      "execution_count": 6,
      "id": "b3e76aba",
      "metadata": {
        "id": "b3e76aba",
        "outputId": "32264593-ecc1-433a-aff1-87c6aa4dc1cf",
        "colab": {
          "base_uri": "https://localhost:8080/"
        }
      },
      "outputs": [
        {
          "output_type": "execute_result",
          "data": {
            "text/plain": [
              "(5169, 2)"
            ]
          },
          "metadata": {},
          "execution_count": 6
        }
      ],
      "source": [
        "sms.shape"
      ]
    },
    {
      "cell_type": "code",
      "execution_count": 7,
      "id": "d48d4125",
      "metadata": {
        "id": "d48d4125",
        "outputId": "0bd3f42c-6042-44b4-a1f6-48770d031ebd",
        "colab": {
          "base_uri": "https://localhost:8080/",
          "height": 178
        }
      },
      "outputs": [
        {
          "output_type": "execute_result",
          "data": {
            "text/plain": [
              "Label\n",
              "ham     87.366996\n",
              "spam    12.633004\n",
              "Name: proportion, dtype: float64"
            ],
            "text/html": [
              "<div>\n",
              "<style scoped>\n",
              "    .dataframe tbody tr th:only-of-type {\n",
              "        vertical-align: middle;\n",
              "    }\n",
              "\n",
              "    .dataframe tbody tr th {\n",
              "        vertical-align: top;\n",
              "    }\n",
              "\n",
              "    .dataframe thead th {\n",
              "        text-align: right;\n",
              "    }\n",
              "</style>\n",
              "<table border=\"1\" class=\"dataframe\">\n",
              "  <thead>\n",
              "    <tr style=\"text-align: right;\">\n",
              "      <th></th>\n",
              "      <th>proportion</th>\n",
              "    </tr>\n",
              "    <tr>\n",
              "      <th>Label</th>\n",
              "      <th></th>\n",
              "    </tr>\n",
              "  </thead>\n",
              "  <tbody>\n",
              "    <tr>\n",
              "      <th>ham</th>\n",
              "      <td>87.366996</td>\n",
              "    </tr>\n",
              "    <tr>\n",
              "      <th>spam</th>\n",
              "      <td>12.633004</td>\n",
              "    </tr>\n",
              "  </tbody>\n",
              "</table>\n",
              "</div><br><label><b>dtype:</b> float64</label>"
            ]
          },
          "metadata": {},
          "execution_count": 7
        }
      ],
      "source": [
        "sms[\"Label\"].value_counts(normalize=True)*100"
      ]
    },
    {
      "cell_type": "code",
      "execution_count": 8,
      "id": "8a5c8a17",
      "metadata": {
        "id": "8a5c8a17",
        "outputId": "8dee97ca-c20d-4af9-ac33-9298b3797413",
        "colab": {
          "base_uri": "https://localhost:8080/",
          "height": 510
        }
      },
      "outputs": [
        {
          "output_type": "execute_result",
          "data": {
            "text/plain": [
              "([<matplotlib.patches.Wedge at 0x7fc5a9e4ef90>,\n",
              "  <matplotlib.patches.Wedge at 0x7fc5a9e1d070>],\n",
              " [Text(-1.014499732282844, 0.4251944181172162, 'ham'),\n",
              "  Text(1.0144998708287172, -0.42519408755122207, 'spam')],\n",
              " [Text(-0.5533634903360967, 0.2319242280639361, '87.37%'),\n",
              "  Text(0.553363565906573, -0.231924047755212, '12.63%')])"
            ]
          },
          "metadata": {},
          "execution_count": 8
        },
        {
          "output_type": "display_data",
          "data": {
            "text/plain": [
              "<Figure size 640x480 with 1 Axes>"
            ],
            "image/png": "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\n"
          },
          "metadata": {}
        }
      ],
      "source": [
        "plt.pie(sms[\"Label\"].value_counts()*100,labels=[\"ham\",\"spam\"],autopct=\"%1.2f%%\")"
      ]
    },
    {
      "cell_type": "code",
      "source": [
        "mail = pd.read_csv(\"emails.csv\")\n",
        "mail =mail[[\"label_num\",\"Message\"]]\n",
        "mail"
      ],
      "metadata": {
        "id": "CXGu9O6D_0CG",
        "outputId": "60178591-1f09-4400-fdb6-b6f286e887d8",
        "colab": {
          "base_uri": "https://localhost:8080/",
          "height": 423
        }
      },
      "id": "CXGu9O6D_0CG",
      "execution_count": 9,
      "outputs": [
        {
          "output_type": "execute_result",
          "data": {
            "text/plain": [
              "      label_num                                            Message\n",
              "0             0  Subject: enron methanol ; meter # : 988291\\r\\n...\n",
              "1             0  Subject: hpl nom for january 9 , 2001\\r\\n( see...\n",
              "2             0  Subject: neon retreat\\r\\nho ho ho , we ' re ar...\n",
              "3             1  Subject: photoshop , windows , office . cheap ...\n",
              "4             0  Subject: re : indian springs\\r\\nthis deal is t...\n",
              "...         ...                                                ...\n",
              "5166          0  Subject: put the 10 on the ft\\r\\nthe transport...\n",
              "5167          0  Subject: 3 / 4 / 2000 and following noms\\r\\nhp...\n",
              "5168          0  Subject: calpine daily gas nomination\\r\\n>\\r\\n...\n",
              "5169          0  Subject: industrial worksheets for august 2000...\n",
              "5170          1  Subject: important online banking alert\\r\\ndea...\n",
              "\n",
              "[5171 rows x 2 columns]"
            ],
            "text/html": [
              "\n",
              "  <div id=\"df-605b621a-b395-4b3b-87ed-3af6a53a0c87\" class=\"colab-df-container\">\n",
              "    <div>\n",
              "<style scoped>\n",
              "    .dataframe tbody tr th:only-of-type {\n",
              "        vertical-align: middle;\n",
              "    }\n",
              "\n",
              "    .dataframe tbody tr th {\n",
              "        vertical-align: top;\n",
              "    }\n",
              "\n",
              "    .dataframe thead th {\n",
              "        text-align: right;\n",
              "    }\n",
              "</style>\n",
              "<table border=\"1\" class=\"dataframe\">\n",
              "  <thead>\n",
              "    <tr style=\"text-align: right;\">\n",
              "      <th></th>\n",
              "      <th>label_num</th>\n",
              "      <th>Message</th>\n",
              "    </tr>\n",
              "  </thead>\n",
              "  <tbody>\n",
              "    <tr>\n",
              "      <th>0</th>\n",
              "      <td>0</td>\n",
              "      <td>Subject: enron methanol ; meter # : 988291\\r\\n...</td>\n",
              "    </tr>\n",
              "    <tr>\n",
              "      <th>1</th>\n",
              "      <td>0</td>\n",
              "      <td>Subject: hpl nom for january 9 , 2001\\r\\n( see...</td>\n",
              "    </tr>\n",
              "    <tr>\n",
              "      <th>2</th>\n",
              "      <td>0</td>\n",
              "      <td>Subject: neon retreat\\r\\nho ho ho , we ' re ar...</td>\n",
              "    </tr>\n",
              "    <tr>\n",
              "      <th>3</th>\n",
              "      <td>1</td>\n",
              "      <td>Subject: photoshop , windows , office . cheap ...</td>\n",
              "    </tr>\n",
              "    <tr>\n",
              "      <th>4</th>\n",
              "      <td>0</td>\n",
              "      <td>Subject: re : indian springs\\r\\nthis deal is t...</td>\n",
              "    </tr>\n",
              "    <tr>\n",
              "      <th>...</th>\n",
              "      <td>...</td>\n",
              "      <td>...</td>\n",
              "    </tr>\n",
              "    <tr>\n",
              "      <th>5166</th>\n",
              "      <td>0</td>\n",
              "      <td>Subject: put the 10 on the ft\\r\\nthe transport...</td>\n",
              "    </tr>\n",
              "    <tr>\n",
              "      <th>5167</th>\n",
              "      <td>0</td>\n",
              "      <td>Subject: 3 / 4 / 2000 and following noms\\r\\nhp...</td>\n",
              "    </tr>\n",
              "    <tr>\n",
              "      <th>5168</th>\n",
              "      <td>0</td>\n",
              "      <td>Subject: calpine daily gas nomination\\r\\n&gt;\\r\\n...</td>\n",
              "    </tr>\n",
              "    <tr>\n",
              "      <th>5169</th>\n",
              "      <td>0</td>\n",
              "      <td>Subject: industrial worksheets for august 2000...</td>\n",
              "    </tr>\n",
              "    <tr>\n",
              "      <th>5170</th>\n",
              "      <td>1</td>\n",
              "      <td>Subject: important online banking alert\\r\\ndea...</td>\n",
              "    </tr>\n",
              "  </tbody>\n",
              "</table>\n",
              "<p>5171 rows × 2 columns</p>\n",
              "</div>\n",
              "    <div class=\"colab-df-buttons\">\n",
              "      \n",
              "  <div class=\"colab-df-container\">\n",
              "    <button class=\"colab-df-convert\" onclick=\"convertToInteractive('df-605b621a-b395-4b3b-87ed-3af6a53a0c87')\"\n",
              "            title=\"Convert this dataframe to an interactive table.\"\n",
              "            style=\"display:none;\">\n",
              "      \n",
              "  <svg xmlns=\"http://www.w3.org/2000/svg\" height=\"24px\" viewBox=\"0 -960 960 960\">\n",
              "    <path d=\"M120-120v-720h720v720H120Zm60-500h600v-160H180v160Zm220 220h160v-160H400v160Zm0 220h160v-160H400v160ZM180-400h160v-160H180v160Zm440 0h160v-160H620v160ZM180-180h160v-160H180v160Zm440 0h160v-160H620v160Z\"/>\n",
              "  </svg>\n",
              "    </button>\n",
              "    \n",
              "  <style>\n",
              "    .colab-df-container {\n",
              "      display:flex;\n",
              "      gap: 12px;\n",
              "    }\n",
              "\n",
              "    .colab-df-convert {\n",
              "      background-color: #E8F0FE;\n",
              "      border: none;\n",
              "      border-radius: 50%;\n",
              "      cursor: pointer;\n",
              "      display: none;\n",
              "      fill: #1967D2;\n",
              "      height: 32px;\n",
              "      padding: 0 0 0 0;\n",
              "      width: 32px;\n",
              "    }\n",
              "\n",
              "    .colab-df-convert:hover {\n",
              "      background-color: #E2EBFA;\n",
              "      box-shadow: 0px 1px 2px rgba(60, 64, 67, 0.3), 0px 1px 3px 1px rgba(60, 64, 67, 0.15);\n",
              "      fill: #174EA6;\n",
              "    }\n",
              "\n",
              "    .colab-df-buttons div {\n",
              "      margin-bottom: 4px;\n",
              "    }\n",
              "\n",
              "    [theme=dark] .colab-df-convert {\n",
              "      background-color: #3B4455;\n",
              "      fill: #D2E3FC;\n",
              "    }\n",
              "\n",
              "    [theme=dark] .colab-df-convert:hover {\n",
              "      background-color: #434B5C;\n",
              "      box-shadow: 0px 1px 3px 1px rgba(0, 0, 0, 0.15);\n",
              "      filter: drop-shadow(0px 1px 2px rgba(0, 0, 0, 0.3));\n",
              "      fill: #FFFFFF;\n",
              "    }\n",
              "  </style>\n",
              "\n",
              "    <script>\n",
              "      const buttonEl =\n",
              "        document.querySelector('#df-605b621a-b395-4b3b-87ed-3af6a53a0c87 button.colab-df-convert');\n",
              "      buttonEl.style.display =\n",
              "        google.colab.kernel.accessAllowed ? 'block' : 'none';\n",
              "\n",
              "      async function convertToInteractive(key) {\n",
              "        const element = document.querySelector('#df-605b621a-b395-4b3b-87ed-3af6a53a0c87');\n",
              "        const dataTable =\n",
              "          await google.colab.kernel.invokeFunction('convertToInteractive',\n",
              "                                                    [key], {});\n",
              "        if (!dataTable) return;\n",
              "\n",
              "        const docLinkHtml = 'Like what you see? Visit the ' +\n",
              "          '<a target=\"_blank\" href=https://colab.research.google.com/notebooks/data_table.ipynb>data table notebook</a>'\n",
              "          + ' to learn more about interactive tables.';\n",
              "        element.innerHTML = '';\n",
              "        dataTable['output_type'] = 'display_data';\n",
              "        await google.colab.output.renderOutput(dataTable, element);\n",
              "        const docLink = document.createElement('div');\n",
              "        docLink.innerHTML = docLinkHtml;\n",
              "        element.appendChild(docLink);\n",
              "      }\n",
              "    </script>\n",
              "  </div>\n",
              "  \n",
              "    </div>\n",
              "  </div>\n",
              "  "
            ]
          },
          "metadata": {},
          "execution_count": 9
        }
      ]
    },
    {
      "cell_type": "code",
      "source": [
        "mail.isnull().sum()"
      ],
      "metadata": {
        "id": "96KiJYSfAQZz",
        "outputId": "95e300ec-d3d6-4749-e1a8-032c15b5808b",
        "colab": {
          "base_uri": "https://localhost:8080/",
          "height": 147
        }
      },
      "id": "96KiJYSfAQZz",
      "execution_count": 10,
      "outputs": [
        {
          "output_type": "execute_result",
          "data": {
            "text/plain": [
              "label_num    0\n",
              "Message      0\n",
              "dtype: int64"
            ],
            "text/html": [
              "<div>\n",
              "<style scoped>\n",
              "    .dataframe tbody tr th:only-of-type {\n",
              "        vertical-align: middle;\n",
              "    }\n",
              "\n",
              "    .dataframe tbody tr th {\n",
              "        vertical-align: top;\n",
              "    }\n",
              "\n",
              "    .dataframe thead th {\n",
              "        text-align: right;\n",
              "    }\n",
              "</style>\n",
              "<table border=\"1\" class=\"dataframe\">\n",
              "  <thead>\n",
              "    <tr style=\"text-align: right;\">\n",
              "      <th></th>\n",
              "      <th>0</th>\n",
              "    </tr>\n",
              "  </thead>\n",
              "  <tbody>\n",
              "    <tr>\n",
              "      <th>label_num</th>\n",
              "      <td>0</td>\n",
              "    </tr>\n",
              "    <tr>\n",
              "      <th>Message</th>\n",
              "      <td>0</td>\n",
              "    </tr>\n",
              "  </tbody>\n",
              "</table>\n",
              "</div><br><label><b>dtype:</b> int64</label>"
            ]
          },
          "metadata": {},
          "execution_count": 10
        }
      ]
    },
    {
      "cell_type": "code",
      "source": [
        "mail.duplicated().sum()"
      ],
      "metadata": {
        "id": "EdWxTAbxAQWO",
        "outputId": "e855068f-5912-4a50-e0f9-6cffc182065b",
        "colab": {
          "base_uri": "https://localhost:8080/"
        }
      },
      "id": "EdWxTAbxAQWO",
      "execution_count": 11,
      "outputs": [
        {
          "output_type": "execute_result",
          "data": {
            "text/plain": [
              "np.int64(178)"
            ]
          },
          "metadata": {},
          "execution_count": 11
        }
      ]
    },
    {
      "cell_type": "code",
      "source": [
        "mail.drop_duplicates(inplace=True)\n",
        "mail.reset_index(drop=True,inplace=True)\n",
        "mail.duplicated().sum()"
      ],
      "metadata": {
        "id": "-2x3ITWSAQSy",
        "outputId": "444ea39c-b552-42b9-8b27-22ba3959c0e4",
        "colab": {
          "base_uri": "https://localhost:8080/"
        }
      },
      "id": "-2x3ITWSAQSy",
      "execution_count": 12,
      "outputs": [
        {
          "output_type": "execute_result",
          "data": {
            "text/plain": [
              "np.int64(0)"
            ]
          },
          "metadata": {},
          "execution_count": 12
        }
      ]
    },
    {
      "cell_type": "code",
      "source": [
        "mail[\"label_num\"].value_counts(normalize=True)*100\n"
      ],
      "metadata": {
        "id": "vYSWKtgRAQPg",
        "outputId": "5f84afbd-13b6-4c14-e7ac-e7eec0ea81cd",
        "colab": {
          "base_uri": "https://localhost:8080/",
          "height": 178
        }
      },
      "id": "vYSWKtgRAQPg",
      "execution_count": 13,
      "outputs": [
        {
          "output_type": "execute_result",
          "data": {
            "text/plain": [
              "label_num\n",
              "0    70.719007\n",
              "1    29.280993\n",
              "Name: proportion, dtype: float64"
            ],
            "text/html": [
              "<div>\n",
              "<style scoped>\n",
              "    .dataframe tbody tr th:only-of-type {\n",
              "        vertical-align: middle;\n",
              "    }\n",
              "\n",
              "    .dataframe tbody tr th {\n",
              "        vertical-align: top;\n",
              "    }\n",
              "\n",
              "    .dataframe thead th {\n",
              "        text-align: right;\n",
              "    }\n",
              "</style>\n",
              "<table border=\"1\" class=\"dataframe\">\n",
              "  <thead>\n",
              "    <tr style=\"text-align: right;\">\n",
              "      <th></th>\n",
              "      <th>proportion</th>\n",
              "    </tr>\n",
              "    <tr>\n",
              "      <th>label_num</th>\n",
              "      <th></th>\n",
              "    </tr>\n",
              "  </thead>\n",
              "  <tbody>\n",
              "    <tr>\n",
              "      <th>0</th>\n",
              "      <td>70.719007</td>\n",
              "    </tr>\n",
              "    <tr>\n",
              "      <th>1</th>\n",
              "      <td>29.280993</td>\n",
              "    </tr>\n",
              "  </tbody>\n",
              "</table>\n",
              "</div><br><label><b>dtype:</b> float64</label>"
            ]
          },
          "metadata": {},
          "execution_count": 13
        }
      ]
    },
    {
      "cell_type": "code",
      "source": [
        "plt.pie(mail[\"label_num\"].value_counts()*100,labels=[\"ham\",\"spam\"],autopct=\"%1.2f%%\")"
      ],
      "metadata": {
        "id": "-9BGn7t_AQNf",
        "outputId": "0a490a8b-d222-4b34-acde-7294ca1c6bbe",
        "colab": {
          "base_uri": "https://localhost:8080/",
          "height": 510
        }
      },
      "id": "-9BGn7t_AQNf",
      "execution_count": 14,
      "outputs": [
        {
          "output_type": "execute_result",
          "data": {
            "text/plain": [
              "([<matplotlib.patches.Wedge at 0x7fc5a6eb2000>,\n",
              "  <matplotlib.patches.Wedge at 0x7fc5a9baac90>],\n",
              " [Text(-0.6664987851717366, 0.8750882066195381, 'ham'),\n",
              "  Text(0.6664990703116317, -0.8750879894466217, 'spam')],\n",
              " [Text(-0.36354479191185624, 0.4773208399742935, '70.72%'),\n",
              "  Text(0.36354494744270816, -0.47732072151633903, '29.28%')])"
            ]
          },
          "metadata": {},
          "execution_count": 14
        },
        {
          "output_type": "display_data",
          "data": {
            "text/plain": [
              "<Figure size 640x480 with 1 Axes>"
            ],
            "image/png": "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\n"
          },
          "metadata": {}
        }
      ]
    },
    {
      "cell_type": "code",
      "source": [
        "mail[\"label_num\"]\n",
        "mail.rename(columns={\"label_num\":\"Label\"},inplace=True)"
      ],
      "metadata": {
        "id": "WDF7zcbtAQLE"
      },
      "id": "WDF7zcbtAQLE",
      "execution_count": 15,
      "outputs": []
    },
    {
      "cell_type": "code",
      "source": [
        "sms[\"Label\"]= sms[\"Label\"].map({\"ham\":0,\"spam\":1})"
      ],
      "metadata": {
        "id": "ma_FWCF6CXdT"
      },
      "id": "ma_FWCF6CXdT",
      "execution_count": 16,
      "outputs": []
    },
    {
      "cell_type": "code",
      "source": [
        "mergeData = pd.concat([sms,mail],axis=0,ignore_index=True)\n",
        "mergeData"
      ],
      "metadata": {
        "id": "CCFvaqYPAQI-",
        "outputId": "8a12ebab-fe58-4c16-8cb5-ed7d63dd94dc",
        "colab": {
          "base_uri": "https://localhost:8080/",
          "height": 423
        }
      },
      "id": "CCFvaqYPAQI-",
      "execution_count": 17,
      "outputs": [
        {
          "output_type": "execute_result",
          "data": {
            "text/plain": [
              "       Label                                            Message\n",
              "0          0  Go until jurong point, crazy.. Available only ...\n",
              "1          0                      Ok lar... Joking wif u oni...\n",
              "2          1  Free entry in 2 a wkly comp to win FA Cup fina...\n",
              "3          0  U dun say so early hor... U c already then say...\n",
              "4          0  Nah I don't think he goes to usf, he lives aro...\n",
              "...      ...                                                ...\n",
              "10157      0  Subject: fw : crosstex energy , driscoll ranch...\n",
              "10158      0  Subject: put the 10 on the ft\\r\\nthe transport...\n",
              "10159      0  Subject: 3 / 4 / 2000 and following noms\\r\\nhp...\n",
              "10160      0  Subject: industrial worksheets for august 2000...\n",
              "10161      1  Subject: important online banking alert\\r\\ndea...\n",
              "\n",
              "[10162 rows x 2 columns]"
            ],
            "text/html": [
              "\n",
              "  <div id=\"df-9c77d96d-9eba-42ba-ad5d-9157c70a95e4\" class=\"colab-df-container\">\n",
              "    <div>\n",
              "<style scoped>\n",
              "    .dataframe tbody tr th:only-of-type {\n",
              "        vertical-align: middle;\n",
              "    }\n",
              "\n",
              "    .dataframe tbody tr th {\n",
              "        vertical-align: top;\n",
              "    }\n",
              "\n",
              "    .dataframe thead th {\n",
              "        text-align: right;\n",
              "    }\n",
              "</style>\n",
              "<table border=\"1\" class=\"dataframe\">\n",
              "  <thead>\n",
              "    <tr style=\"text-align: right;\">\n",
              "      <th></th>\n",
              "      <th>Label</th>\n",
              "      <th>Message</th>\n",
              "    </tr>\n",
              "  </thead>\n",
              "  <tbody>\n",
              "    <tr>\n",
              "      <th>0</th>\n",
              "      <td>0</td>\n",
              "      <td>Go until jurong point, crazy.. Available only ...</td>\n",
              "    </tr>\n",
              "    <tr>\n",
              "      <th>1</th>\n",
              "      <td>0</td>\n",
              "      <td>Ok lar... Joking wif u oni...</td>\n",
              "    </tr>\n",
              "    <tr>\n",
              "      <th>2</th>\n",
              "      <td>1</td>\n",
              "      <td>Free entry in 2 a wkly comp to win FA Cup fina...</td>\n",
              "    </tr>\n",
              "    <tr>\n",
              "      <th>3</th>\n",
              "      <td>0</td>\n",
              "      <td>U dun say so early hor... U c already then say...</td>\n",
              "    </tr>\n",
              "    <tr>\n",
              "      <th>4</th>\n",
              "      <td>0</td>\n",
              "      <td>Nah I don't think he goes to usf, he lives aro...</td>\n",
              "    </tr>\n",
              "    <tr>\n",
              "      <th>...</th>\n",
              "      <td>...</td>\n",
              "      <td>...</td>\n",
              "    </tr>\n",
              "    <tr>\n",
              "      <th>10157</th>\n",
              "      <td>0</td>\n",
              "      <td>Subject: fw : crosstex energy , driscoll ranch...</td>\n",
              "    </tr>\n",
              "    <tr>\n",
              "      <th>10158</th>\n",
              "      <td>0</td>\n",
              "      <td>Subject: put the 10 on the ft\\r\\nthe transport...</td>\n",
              "    </tr>\n",
              "    <tr>\n",
              "      <th>10159</th>\n",
              "      <td>0</td>\n",
              "      <td>Subject: 3 / 4 / 2000 and following noms\\r\\nhp...</td>\n",
              "    </tr>\n",
              "    <tr>\n",
              "      <th>10160</th>\n",
              "      <td>0</td>\n",
              "      <td>Subject: industrial worksheets for august 2000...</td>\n",
              "    </tr>\n",
              "    <tr>\n",
              "      <th>10161</th>\n",
              "      <td>1</td>\n",
              "      <td>Subject: important online banking alert\\r\\ndea...</td>\n",
              "    </tr>\n",
              "  </tbody>\n",
              "</table>\n",
              "<p>10162 rows × 2 columns</p>\n",
              "</div>\n",
              "    <div class=\"colab-df-buttons\">\n",
              "      \n",
              "  <div class=\"colab-df-container\">\n",
              "    <button class=\"colab-df-convert\" onclick=\"convertToInteractive('df-9c77d96d-9eba-42ba-ad5d-9157c70a95e4')\"\n",
              "            title=\"Convert this dataframe to an interactive table.\"\n",
              "            style=\"display:none;\">\n",
              "      \n",
              "  <svg xmlns=\"http://www.w3.org/2000/svg\" height=\"24px\" viewBox=\"0 -960 960 960\">\n",
              "    <path d=\"M120-120v-720h720v720H120Zm60-500h600v-160H180v160Zm220 220h160v-160H400v160Zm0 220h160v-160H400v160ZM180-400h160v-160H180v160Zm440 0h160v-160H620v160ZM180-180h160v-160H180v160Zm440 0h160v-160H620v160Z\"/>\n",
              "  </svg>\n",
              "    </button>\n",
              "    \n",
              "  <style>\n",
              "    .colab-df-container {\n",
              "      display:flex;\n",
              "      gap: 12px;\n",
              "    }\n",
              "\n",
              "    .colab-df-convert {\n",
              "      background-color: #E8F0FE;\n",
              "      border: none;\n",
              "      border-radius: 50%;\n",
              "      cursor: pointer;\n",
              "      display: none;\n",
              "      fill: #1967D2;\n",
              "      height: 32px;\n",
              "      padding: 0 0 0 0;\n",
              "      width: 32px;\n",
              "    }\n",
              "\n",
              "    .colab-df-convert:hover {\n",
              "      background-color: #E2EBFA;\n",
              "      box-shadow: 0px 1px 2px rgba(60, 64, 67, 0.3), 0px 1px 3px 1px rgba(60, 64, 67, 0.15);\n",
              "      fill: #174EA6;\n",
              "    }\n",
              "\n",
              "    .colab-df-buttons div {\n",
              "      margin-bottom: 4px;\n",
              "    }\n",
              "\n",
              "    [theme=dark] .colab-df-convert {\n",
              "      background-color: #3B4455;\n",
              "      fill: #D2E3FC;\n",
              "    }\n",
              "\n",
              "    [theme=dark] .colab-df-convert:hover {\n",
              "      background-color: #434B5C;\n",
              "      box-shadow: 0px 1px 3px 1px rgba(0, 0, 0, 0.15);\n",
              "      filter: drop-shadow(0px 1px 2px rgba(0, 0, 0, 0.3));\n",
              "      fill: #FFFFFF;\n",
              "    }\n",
              "  </style>\n",
              "\n",
              "    <script>\n",
              "      const buttonEl =\n",
              "        document.querySelector('#df-9c77d96d-9eba-42ba-ad5d-9157c70a95e4 button.colab-df-convert');\n",
              "      buttonEl.style.display =\n",
              "        google.colab.kernel.accessAllowed ? 'block' : 'none';\n",
              "\n",
              "      async function convertToInteractive(key) {\n",
              "        const element = document.querySelector('#df-9c77d96d-9eba-42ba-ad5d-9157c70a95e4');\n",
              "        const dataTable =\n",
              "          await google.colab.kernel.invokeFunction('convertToInteractive',\n",
              "                                                    [key], {});\n",
              "        if (!dataTable) return;\n",
              "\n",
              "        const docLinkHtml = 'Like what you see? Visit the ' +\n",
              "          '<a target=\"_blank\" href=https://colab.research.google.com/notebooks/data_table.ipynb>data table notebook</a>'\n",
              "          + ' to learn more about interactive tables.';\n",
              "        element.innerHTML = '';\n",
              "        dataTable['output_type'] = 'display_data';\n",
              "        await google.colab.output.renderOutput(dataTable, element);\n",
              "        const docLink = document.createElement('div');\n",
              "        docLink.innerHTML = docLinkHtml;\n",
              "        element.appendChild(docLink);\n",
              "      }\n",
              "    </script>\n",
              "  </div>\n",
              "  \n",
              "    </div>\n",
              "  </div>\n",
              "  "
            ]
          },
          "metadata": {},
          "execution_count": 17
        }
      ]
    },
    {
      "cell_type": "code",
      "source": [
        "mergeData[\"Label\"].value_counts(normalize=True)*100"
      ],
      "metadata": {
        "id": "DsXay8oyCokX",
        "outputId": "1a96307c-ec87-4be5-c4ad-acdcc0c24f89",
        "colab": {
          "base_uri": "https://localhost:8080/",
          "height": 178
        }
      },
      "id": "DsXay8oyCokX",
      "execution_count": 18,
      "outputs": [
        {
          "output_type": "execute_result",
          "data": {
            "text/plain": [
              "Label\n",
              "0    79.187168\n",
              "1    20.812832\n",
              "Name: proportion, dtype: float64"
            ],
            "text/html": [
              "<div>\n",
              "<style scoped>\n",
              "    .dataframe tbody tr th:only-of-type {\n",
              "        vertical-align: middle;\n",
              "    }\n",
              "\n",
              "    .dataframe tbody tr th {\n",
              "        vertical-align: top;\n",
              "    }\n",
              "\n",
              "    .dataframe thead th {\n",
              "        text-align: right;\n",
              "    }\n",
              "</style>\n",
              "<table border=\"1\" class=\"dataframe\">\n",
              "  <thead>\n",
              "    <tr style=\"text-align: right;\">\n",
              "      <th></th>\n",
              "      <th>proportion</th>\n",
              "    </tr>\n",
              "    <tr>\n",
              "      <th>Label</th>\n",
              "      <th></th>\n",
              "    </tr>\n",
              "  </thead>\n",
              "  <tbody>\n",
              "    <tr>\n",
              "      <th>0</th>\n",
              "      <td>79.187168</td>\n",
              "    </tr>\n",
              "    <tr>\n",
              "      <th>1</th>\n",
              "      <td>20.812832</td>\n",
              "    </tr>\n",
              "  </tbody>\n",
              "</table>\n",
              "</div><br><label><b>dtype:</b> float64</label>"
            ]
          },
          "metadata": {},
          "execution_count": 18
        }
      ]
    },
    {
      "cell_type": "code",
      "source": [
        "mergeData.to_csv(\"Messages.csv\",index=False)"
      ],
      "metadata": {
        "id": "XviPzUPgDRRu"
      },
      "id": "XviPzUPgDRRu",
      "execution_count": 19,
      "outputs": []
    },
    {
      "cell_type": "code",
      "source": [
        "import pandas as pd\n",
        "import re\n",
        "from nltk.corpus import stopwords\n",
        "from nltk.stem import WordNetLemmatizer"
      ],
      "metadata": {
        "id": "CotRI7wjEFWU"
      },
      "id": "CotRI7wjEFWU",
      "execution_count": 20,
      "outputs": []
    },
    {
      "cell_type": "markdown",
      "source": [
        "**preprocessing** *"
      ],
      "metadata": {
        "id": "AqK-nG6sEKax"
      },
      "id": "AqK-nG6sEKax"
    },
    {
      "cell_type": "code",
      "source": [
        "Messages =pd.read_csv(\"Messages.csv\")\n",
        "Messages"
      ],
      "metadata": {
        "id": "AshO1KGUERNn",
        "outputId": "e86617a5-3ee9-437c-bafb-9d5bd0c82d7f",
        "colab": {
          "base_uri": "https://localhost:8080/",
          "height": 423
        }
      },
      "id": "AshO1KGUERNn",
      "execution_count": 21,
      "outputs": [
        {
          "output_type": "execute_result",
          "data": {
            "text/plain": [
              "       Label                                            Message\n",
              "0          0  Go until jurong point, crazy.. Available only ...\n",
              "1          0                      Ok lar... Joking wif u oni...\n",
              "2          1  Free entry in 2 a wkly comp to win FA Cup fina...\n",
              "3          0  U dun say so early hor... U c already then say...\n",
              "4          0  Nah I don't think he goes to usf, he lives aro...\n",
              "...      ...                                                ...\n",
              "10157      0  Subject: fw : crosstex energy , driscoll ranch...\n",
              "10158      0  Subject: put the 10 on the ft\\r\\nthe transport...\n",
              "10159      0  Subject: 3 / 4 / 2000 and following noms\\r\\nhp...\n",
              "10160      0  Subject: industrial worksheets for august 2000...\n",
              "10161      1  Subject: important online banking alert\\r\\ndea...\n",
              "\n",
              "[10162 rows x 2 columns]"
            ],
            "text/html": [
              "\n",
              "  <div id=\"df-68fd912d-446d-42b2-b8fa-c3df4c70a157\" class=\"colab-df-container\">\n",
              "    <div>\n",
              "<style scoped>\n",
              "    .dataframe tbody tr th:only-of-type {\n",
              "        vertical-align: middle;\n",
              "    }\n",
              "\n",
              "    .dataframe tbody tr th {\n",
              "        vertical-align: top;\n",
              "    }\n",
              "\n",
              "    .dataframe thead th {\n",
              "        text-align: right;\n",
              "    }\n",
              "</style>\n",
              "<table border=\"1\" class=\"dataframe\">\n",
              "  <thead>\n",
              "    <tr style=\"text-align: right;\">\n",
              "      <th></th>\n",
              "      <th>Label</th>\n",
              "      <th>Message</th>\n",
              "    </tr>\n",
              "  </thead>\n",
              "  <tbody>\n",
              "    <tr>\n",
              "      <th>0</th>\n",
              "      <td>0</td>\n",
              "      <td>Go until jurong point, crazy.. Available only ...</td>\n",
              "    </tr>\n",
              "    <tr>\n",
              "      <th>1</th>\n",
              "      <td>0</td>\n",
              "      <td>Ok lar... Joking wif u oni...</td>\n",
              "    </tr>\n",
              "    <tr>\n",
              "      <th>2</th>\n",
              "      <td>1</td>\n",
              "      <td>Free entry in 2 a wkly comp to win FA Cup fina...</td>\n",
              "    </tr>\n",
              "    <tr>\n",
              "      <th>3</th>\n",
              "      <td>0</td>\n",
              "      <td>U dun say so early hor... U c already then say...</td>\n",
              "    </tr>\n",
              "    <tr>\n",
              "      <th>4</th>\n",
              "      <td>0</td>\n",
              "      <td>Nah I don't think he goes to usf, he lives aro...</td>\n",
              "    </tr>\n",
              "    <tr>\n",
              "      <th>...</th>\n",
              "      <td>...</td>\n",
              "      <td>...</td>\n",
              "    </tr>\n",
              "    <tr>\n",
              "      <th>10157</th>\n",
              "      <td>0</td>\n",
              "      <td>Subject: fw : crosstex energy , driscoll ranch...</td>\n",
              "    </tr>\n",
              "    <tr>\n",
              "      <th>10158</th>\n",
              "      <td>0</td>\n",
              "      <td>Subject: put the 10 on the ft\\r\\nthe transport...</td>\n",
              "    </tr>\n",
              "    <tr>\n",
              "      <th>10159</th>\n",
              "      <td>0</td>\n",
              "      <td>Subject: 3 / 4 / 2000 and following noms\\r\\nhp...</td>\n",
              "    </tr>\n",
              "    <tr>\n",
              "      <th>10160</th>\n",
              "      <td>0</td>\n",
              "      <td>Subject: industrial worksheets for august 2000...</td>\n",
              "    </tr>\n",
              "    <tr>\n",
              "      <th>10161</th>\n",
              "      <td>1</td>\n",
              "      <td>Subject: important online banking alert\\r\\ndea...</td>\n",
              "    </tr>\n",
              "  </tbody>\n",
              "</table>\n",
              "<p>10162 rows × 2 columns</p>\n",
              "</div>\n",
              "    <div class=\"colab-df-buttons\">\n",
              "      \n",
              "  <div class=\"colab-df-container\">\n",
              "    <button class=\"colab-df-convert\" onclick=\"convertToInteractive('df-68fd912d-446d-42b2-b8fa-c3df4c70a157')\"\n",
              "            title=\"Convert this dataframe to an interactive table.\"\n",
              "            style=\"display:none;\">\n",
              "      \n",
              "  <svg xmlns=\"http://www.w3.org/2000/svg\" height=\"24px\" viewBox=\"0 -960 960 960\">\n",
              "    <path d=\"M120-120v-720h720v720H120Zm60-500h600v-160H180v160Zm220 220h160v-160H400v160Zm0 220h160v-160H400v160ZM180-400h160v-160H180v160Zm440 0h160v-160H620v160ZM180-180h160v-160H180v160Zm440 0h160v-160H620v160Z\"/>\n",
              "  </svg>\n",
              "    </button>\n",
              "    \n",
              "  <style>\n",
              "    .colab-df-container {\n",
              "      display:flex;\n",
              "      gap: 12px;\n",
              "    }\n",
              "\n",
              "    .colab-df-convert {\n",
              "      background-color: #E8F0FE;\n",
              "      border: none;\n",
              "      border-radius: 50%;\n",
              "      cursor: pointer;\n",
              "      display: none;\n",
              "      fill: #1967D2;\n",
              "      height: 32px;\n",
              "      padding: 0 0 0 0;\n",
              "      width: 32px;\n",
              "    }\n",
              "\n",
              "    .colab-df-convert:hover {\n",
              "      background-color: #E2EBFA;\n",
              "      box-shadow: 0px 1px 2px rgba(60, 64, 67, 0.3), 0px 1px 3px 1px rgba(60, 64, 67, 0.15);\n",
              "      fill: #174EA6;\n",
              "    }\n",
              "\n",
              "    .colab-df-buttons div {\n",
              "      margin-bottom: 4px;\n",
              "    }\n",
              "\n",
              "    [theme=dark] .colab-df-convert {\n",
              "      background-color: #3B4455;\n",
              "      fill: #D2E3FC;\n",
              "    }\n",
              "\n",
              "    [theme=dark] .colab-df-convert:hover {\n",
              "      background-color: #434B5C;\n",
              "      box-shadow: 0px 1px 3px 1px rgba(0, 0, 0, 0.15);\n",
              "      filter: drop-shadow(0px 1px 2px rgba(0, 0, 0, 0.3));\n",
              "      fill: #FFFFFF;\n",
              "    }\n",
              "  </style>\n",
              "\n",
              "    <script>\n",
              "      const buttonEl =\n",
              "        document.querySelector('#df-68fd912d-446d-42b2-b8fa-c3df4c70a157 button.colab-df-convert');\n",
              "      buttonEl.style.display =\n",
              "        google.colab.kernel.accessAllowed ? 'block' : 'none';\n",
              "\n",
              "      async function convertToInteractive(key) {\n",
              "        const element = document.querySelector('#df-68fd912d-446d-42b2-b8fa-c3df4c70a157');\n",
              "        const dataTable =\n",
              "          await google.colab.kernel.invokeFunction('convertToInteractive',\n",
              "                                                    [key], {});\n",
              "        if (!dataTable) return;\n",
              "\n",
              "        const docLinkHtml = 'Like what you see? Visit the ' +\n",
              "          '<a target=\"_blank\" href=https://colab.research.google.com/notebooks/data_table.ipynb>data table notebook</a>'\n",
              "          + ' to learn more about interactive tables.';\n",
              "        element.innerHTML = '';\n",
              "        dataTable['output_type'] = 'display_data';\n",
              "        await google.colab.output.renderOutput(dataTable, element);\n",
              "        const docLink = document.createElement('div');\n",
              "        docLink.innerHTML = docLinkHtml;\n",
              "        element.appendChild(docLink);\n",
              "      }\n",
              "    </script>\n",
              "  </div>\n",
              "  \n",
              "    </div>\n",
              "  </div>\n",
              "  "
            ]
          },
          "metadata": {},
          "execution_count": 21
        }
      ]
    },
    {
      "cell_type": "code",
      "source": [
        "data =Messages[\"Message\"]\n",
        "data"
      ],
      "metadata": {
        "id": "v4LeP5L6E_tA",
        "outputId": "11976dcb-7d9a-4f2f-e3ee-89904cc8d361",
        "colab": {
          "base_uri": "https://localhost:8080/",
          "height": 458
        },
        "collapsed": true
      },
      "id": "v4LeP5L6E_tA",
      "execution_count": 22,
      "outputs": [
        {
          "output_type": "execute_result",
          "data": {
            "text/plain": [
              "0        Go until jurong point, crazy.. Available only ...\n",
              "1                            Ok lar... Joking wif u oni...\n",
              "2        Free entry in 2 a wkly comp to win FA Cup fina...\n",
              "3        U dun say so early hor... U c already then say...\n",
              "4        Nah I don't think he goes to usf, he lives aro...\n",
              "                               ...                        \n",
              "10157    Subject: fw : crosstex energy , driscoll ranch...\n",
              "10158    Subject: put the 10 on the ft\\r\\nthe transport...\n",
              "10159    Subject: 3 / 4 / 2000 and following noms\\r\\nhp...\n",
              "10160    Subject: industrial worksheets for august 2000...\n",
              "10161    Subject: important online banking alert\\r\\ndea...\n",
              "Name: Message, Length: 10162, dtype: object"
            ],
            "text/html": [
              "<div>\n",
              "<style scoped>\n",
              "    .dataframe tbody tr th:only-of-type {\n",
              "        vertical-align: middle;\n",
              "    }\n",
              "\n",
              "    .dataframe tbody tr th {\n",
              "        vertical-align: top;\n",
              "    }\n",
              "\n",
              "    .dataframe thead th {\n",
              "        text-align: right;\n",
              "    }\n",
              "</style>\n",
              "<table border=\"1\" class=\"dataframe\">\n",
              "  <thead>\n",
              "    <tr style=\"text-align: right;\">\n",
              "      <th></th>\n",
              "      <th>Message</th>\n",
              "    </tr>\n",
              "  </thead>\n",
              "  <tbody>\n",
              "    <tr>\n",
              "      <th>0</th>\n",
              "      <td>Go until jurong point, crazy.. Available only ...</td>\n",
              "    </tr>\n",
              "    <tr>\n",
              "      <th>1</th>\n",
              "      <td>Ok lar... Joking wif u oni...</td>\n",
              "    </tr>\n",
              "    <tr>\n",
              "      <th>2</th>\n",
              "      <td>Free entry in 2 a wkly comp to win FA Cup fina...</td>\n",
              "    </tr>\n",
              "    <tr>\n",
              "      <th>3</th>\n",
              "      <td>U dun say so early hor... U c already then say...</td>\n",
              "    </tr>\n",
              "    <tr>\n",
              "      <th>4</th>\n",
              "      <td>Nah I don't think he goes to usf, he lives aro...</td>\n",
              "    </tr>\n",
              "    <tr>\n",
              "      <th>...</th>\n",
              "      <td>...</td>\n",
              "    </tr>\n",
              "    <tr>\n",
              "      <th>10157</th>\n",
              "      <td>Subject: fw : crosstex energy , driscoll ranch...</td>\n",
              "    </tr>\n",
              "    <tr>\n",
              "      <th>10158</th>\n",
              "      <td>Subject: put the 10 on the ft\\r\\nthe transport...</td>\n",
              "    </tr>\n",
              "    <tr>\n",
              "      <th>10159</th>\n",
              "      <td>Subject: 3 / 4 / 2000 and following noms\\r\\nhp...</td>\n",
              "    </tr>\n",
              "    <tr>\n",
              "      <th>10160</th>\n",
              "      <td>Subject: industrial worksheets for august 2000...</td>\n",
              "    </tr>\n",
              "    <tr>\n",
              "      <th>10161</th>\n",
              "      <td>Subject: important online banking alert\\r\\ndea...</td>\n",
              "    </tr>\n",
              "  </tbody>\n",
              "</table>\n",
              "<p>10162 rows × 1 columns</p>\n",
              "</div><br><label><b>dtype:</b> object</label>"
            ]
          },
          "metadata": {},
          "execution_count": 22
        }
      ]
    },
    {
      "cell_type": "code",
      "source": [
        "import nltk\n",
        "\n",
        "# Download the required resources(if face any error buddy )\n",
        "nltk.download('stopwords')\n",
        "nltk.download('wordnet')"
      ],
      "metadata": {
        "id": "ErhEB09RHZDX",
        "outputId": "cfbd03f7-9af0-465b-9d63-5cdb115308ac",
        "colab": {
          "base_uri": "https://localhost:8080/"
        }
      },
      "id": "ErhEB09RHZDX",
      "execution_count": 23,
      "outputs": [
        {
          "output_type": "stream",
          "name": "stderr",
          "text": [
            "[nltk_data] Downloading package stopwords to /root/nltk_data...\n",
            "[nltk_data]   Package stopwords is already up-to-date!\n",
            "[nltk_data] Downloading package wordnet to /root/nltk_data...\n",
            "[nltk_data]   Package wordnet is already up-to-date!\n"
          ]
        },
        {
          "output_type": "execute_result",
          "data": {
            "text/plain": [
              "True"
            ]
          },
          "metadata": {},
          "execution_count": 23
        }
      ]
    },
    {
      "cell_type": "code",
      "source": [
        "def preprocessor(text):\n",
        "  text = text.lower()\n",
        "  text = re.sub(r'[^a-zA-Z0-9\\s]', '', text)\n",
        "\n",
        "  #tokenization\n",
        "  words = text.split()\n",
        "\n",
        "  #stop word removal and lemmatization\n",
        "  stop_words = set(stopwords.words('english'))\n",
        "  lemmatizer = WordNetLemmatizer()\n",
        "\n",
        "  words_without_stopwords = [i for i in words if i not in stop_words]\n",
        "  lemmatizer_words =[lemmatizer.lemmatize(i) for i in words_without_stopwords]\n",
        "\n",
        "  return \" \".join(lemmatizer_words)\n",
        "\n",
        "Messages[\"preprocess_messages\"] = Messages[\"Message\"].apply(preprocessor)\n"
      ],
      "metadata": {
        "id": "GxhFUeNcF-Ka"
      },
      "id": "GxhFUeNcF-Ka",
      "execution_count": 24,
      "outputs": []
    },
    {
      "cell_type": "markdown",
      "source": [
        "**Feature Extraction using TF-IDF**"
      ],
      "metadata": {
        "id": "bTqvt63ILBUB"
      },
      "id": "bTqvt63ILBUB"
    },
    {
      "cell_type": "code",
      "source": [
        "X =Messages[\"preprocess_messages\"]"
      ],
      "metadata": {
        "id": "-mTFUGHMJyqn"
      },
      "id": "-mTFUGHMJyqn",
      "execution_count": 25,
      "outputs": []
    },
    {
      "cell_type": "code",
      "source": [
        "X"
      ],
      "metadata": {
        "id": "-DZNDxugJ8Wv",
        "outputId": "663ad317-cecf-4f26-f609-d59f4d4eac7b",
        "colab": {
          "base_uri": "https://localhost:8080/",
          "height": 458
        }
      },
      "id": "-DZNDxugJ8Wv",
      "execution_count": 26,
      "outputs": [
        {
          "output_type": "execute_result",
          "data": {
            "text/plain": [
              "0        go jurong point crazy available bugis n great ...\n",
              "1                                  ok lar joking wif u oni\n",
              "2        free entry 2 wkly comp win fa cup final tkts 2...\n",
              "3                      u dun say early hor u c already say\n",
              "4                 nah dont think go usf life around though\n",
              "                               ...                        \n",
              "10157    subject fw crosstex energy driscoll ranch 1 3 ...\n",
              "10158    subject put 10 ft transport volume decreased 2...\n",
              "10159    subject 3 4 2000 following noms hpl take extra...\n",
              "10160    subject industrial worksheet august 2000 activ...\n",
              "10161    subject important online banking alert dear va...\n",
              "Name: preprocess_messages, Length: 10162, dtype: object"
            ],
            "text/html": [
              "<div>\n",
              "<style scoped>\n",
              "    .dataframe tbody tr th:only-of-type {\n",
              "        vertical-align: middle;\n",
              "    }\n",
              "\n",
              "    .dataframe tbody tr th {\n",
              "        vertical-align: top;\n",
              "    }\n",
              "\n",
              "    .dataframe thead th {\n",
              "        text-align: right;\n",
              "    }\n",
              "</style>\n",
              "<table border=\"1\" class=\"dataframe\">\n",
              "  <thead>\n",
              "    <tr style=\"text-align: right;\">\n",
              "      <th></th>\n",
              "      <th>preprocess_messages</th>\n",
              "    </tr>\n",
              "  </thead>\n",
              "  <tbody>\n",
              "    <tr>\n",
              "      <th>0</th>\n",
              "      <td>go jurong point crazy available bugis n great ...</td>\n",
              "    </tr>\n",
              "    <tr>\n",
              "      <th>1</th>\n",
              "      <td>ok lar joking wif u oni</td>\n",
              "    </tr>\n",
              "    <tr>\n",
              "      <th>2</th>\n",
              "      <td>free entry 2 wkly comp win fa cup final tkts 2...</td>\n",
              "    </tr>\n",
              "    <tr>\n",
              "      <th>3</th>\n",
              "      <td>u dun say early hor u c already say</td>\n",
              "    </tr>\n",
              "    <tr>\n",
              "      <th>4</th>\n",
              "      <td>nah dont think go usf life around though</td>\n",
              "    </tr>\n",
              "    <tr>\n",
              "      <th>...</th>\n",
              "      <td>...</td>\n",
              "    </tr>\n",
              "    <tr>\n",
              "      <th>10157</th>\n",
              "      <td>subject fw crosstex energy driscoll ranch 1 3 ...</td>\n",
              "    </tr>\n",
              "    <tr>\n",
              "      <th>10158</th>\n",
              "      <td>subject put 10 ft transport volume decreased 2...</td>\n",
              "    </tr>\n",
              "    <tr>\n",
              "      <th>10159</th>\n",
              "      <td>subject 3 4 2000 following noms hpl take extra...</td>\n",
              "    </tr>\n",
              "    <tr>\n",
              "      <th>10160</th>\n",
              "      <td>subject industrial worksheet august 2000 activ...</td>\n",
              "    </tr>\n",
              "    <tr>\n",
              "      <th>10161</th>\n",
              "      <td>subject important online banking alert dear va...</td>\n",
              "    </tr>\n",
              "  </tbody>\n",
              "</table>\n",
              "<p>10162 rows × 1 columns</p>\n",
              "</div><br><label><b>dtype:</b> object</label>"
            ]
          },
          "metadata": {},
          "execution_count": 26
        }
      ]
    },
    {
      "cell_type": "code",
      "source": [
        "print(type(X))\n",
        "X.shape"
      ],
      "metadata": {
        "id": "CJtmJBwAJyoH",
        "outputId": "8ad34994-dfab-4178-fc20-14bfe20baa5c",
        "colab": {
          "base_uri": "https://localhost:8080/"
        }
      },
      "id": "CJtmJBwAJyoH",
      "execution_count": 27,
      "outputs": [
        {
          "output_type": "stream",
          "name": "stdout",
          "text": [
            "<class 'pandas.core.series.Series'>\n"
          ]
        },
        {
          "output_type": "execute_result",
          "data": {
            "text/plain": [
              "(10162,)"
            ]
          },
          "metadata": {},
          "execution_count": 27
        }
      ]
    },
    {
      "cell_type": "code",
      "source": [
        "print(\"TF-IDF matrix (sample):\")\n",
        "print(X) # Convert to dense array for viewing the first 3 rows\n",
        "\n"
      ],
      "metadata": {
        "id": "TNSjgT_wJylk",
        "outputId": "810e98a1-8dee-499c-def8-7d023ef2d29b",
        "colab": {
          "base_uri": "https://localhost:8080/"
        },
        "collapsed": true
      },
      "id": "TNSjgT_wJylk",
      "execution_count": 28,
      "outputs": [
        {
          "output_type": "stream",
          "name": "stdout",
          "text": [
            "TF-IDF matrix (sample):\n",
            "0        go jurong point crazy available bugis n great ...\n",
            "1                                  ok lar joking wif u oni\n",
            "2        free entry 2 wkly comp win fa cup final tkts 2...\n",
            "3                      u dun say early hor u c already say\n",
            "4                 nah dont think go usf life around though\n",
            "                               ...                        \n",
            "10157    subject fw crosstex energy driscoll ranch 1 3 ...\n",
            "10158    subject put 10 ft transport volume decreased 2...\n",
            "10159    subject 3 4 2000 following noms hpl take extra...\n",
            "10160    subject industrial worksheet august 2000 activ...\n",
            "10161    subject important online banking alert dear va...\n",
            "Name: preprocess_messages, Length: 10162, dtype: object\n"
          ]
        }
      ]
    },
    {
      "cell_type": "code",
      "source": [
        "y=Messages[\"Label\"]\n",
        "y"
      ],
      "metadata": {
        "id": "QxttvAMbOvWl",
        "outputId": "0a5090e6-9b9a-4c4a-b7a7-08044d1f7a6e",
        "colab": {
          "base_uri": "https://localhost:8080/",
          "height": 458
        }
      },
      "id": "QxttvAMbOvWl",
      "execution_count": 29,
      "outputs": [
        {
          "output_type": "execute_result",
          "data": {
            "text/plain": [
              "0        0\n",
              "1        0\n",
              "2        1\n",
              "3        0\n",
              "4        0\n",
              "        ..\n",
              "10157    0\n",
              "10158    0\n",
              "10159    0\n",
              "10160    0\n",
              "10161    1\n",
              "Name: Label, Length: 10162, dtype: int64"
            ],
            "text/html": [
              "<div>\n",
              "<style scoped>\n",
              "    .dataframe tbody tr th:only-of-type {\n",
              "        vertical-align: middle;\n",
              "    }\n",
              "\n",
              "    .dataframe tbody tr th {\n",
              "        vertical-align: top;\n",
              "    }\n",
              "\n",
              "    .dataframe thead th {\n",
              "        text-align: right;\n",
              "    }\n",
              "</style>\n",
              "<table border=\"1\" class=\"dataframe\">\n",
              "  <thead>\n",
              "    <tr style=\"text-align: right;\">\n",
              "      <th></th>\n",
              "      <th>Label</th>\n",
              "    </tr>\n",
              "  </thead>\n",
              "  <tbody>\n",
              "    <tr>\n",
              "      <th>0</th>\n",
              "      <td>0</td>\n",
              "    </tr>\n",
              "    <tr>\n",
              "      <th>1</th>\n",
              "      <td>0</td>\n",
              "    </tr>\n",
              "    <tr>\n",
              "      <th>2</th>\n",
              "      <td>1</td>\n",
              "    </tr>\n",
              "    <tr>\n",
              "      <th>3</th>\n",
              "      <td>0</td>\n",
              "    </tr>\n",
              "    <tr>\n",
              "      <th>4</th>\n",
              "      <td>0</td>\n",
              "    </tr>\n",
              "    <tr>\n",
              "      <th>...</th>\n",
              "      <td>...</td>\n",
              "    </tr>\n",
              "    <tr>\n",
              "      <th>10157</th>\n",
              "      <td>0</td>\n",
              "    </tr>\n",
              "    <tr>\n",
              "      <th>10158</th>\n",
              "      <td>0</td>\n",
              "    </tr>\n",
              "    <tr>\n",
              "      <th>10159</th>\n",
              "      <td>0</td>\n",
              "    </tr>\n",
              "    <tr>\n",
              "      <th>10160</th>\n",
              "      <td>0</td>\n",
              "    </tr>\n",
              "    <tr>\n",
              "      <th>10161</th>\n",
              "      <td>1</td>\n",
              "    </tr>\n",
              "  </tbody>\n",
              "</table>\n",
              "<p>10162 rows × 1 columns</p>\n",
              "</div><br><label><b>dtype:</b> int64</label>"
            ]
          },
          "metadata": {},
          "execution_count": 29
        }
      ]
    },
    {
      "cell_type": "markdown",
      "source": [
        "Model training , select best models"
      ],
      "metadata": {
        "id": "wOcDNGBFOgLm"
      },
      "id": "wOcDNGBFOgLm"
    },
    {
      "cell_type": "code",
      "source": [
        "from sklearn.model_selection import train_test_split\n",
        "x_train, x_test, y_train, y_test = train_test_split(X, y, test_size=0.3, random_state=42)\n",
        "x_train.shape, x_test.shape, y_train.shape, y_test.shape"
      ],
      "metadata": {
        "id": "QH3eATBcOfV5",
        "outputId": "1ad4531a-9c9a-446e-aa60-babb6787e2ca",
        "colab": {
          "base_uri": "https://localhost:8080/"
        }
      },
      "id": "QH3eATBcOfV5",
      "execution_count": 30,
      "outputs": [
        {
          "output_type": "execute_result",
          "data": {
            "text/plain": [
              "((7113,), (3049,), (7113,), (3049,))"
            ]
          },
          "metadata": {},
          "execution_count": 30
        }
      ]
    },
    {
      "cell_type": "markdown",
      "source": [
        "## Select the best model\n",
        "- so here we have some list of the best text classification algorithms we imported. Now we will compare each model's score and see which model is performing better than rest of the others\n",
        " - SVM\n",
        " - MultinomialNB\n",
        " - BernoulliNB"
      ],
      "metadata": {
        "id": "Uqzm8MnolaUV"
      },
      "id": "Uqzm8MnolaUV"
    },
    {
      "cell_type": "code",
      "source": [
        "\n",
        "def model_selection(X,y,models,vectorizer):\n",
        "  x_train, x_test, y_train, y_test = train_test_split(X, y, test_size=0.3, random_state=42)\n",
        "  x_train = vectorizer.fit_transform(x_train)\n",
        "  x_test = vectorizer.transform(x_test)\n",
        "\n",
        "  Models=[]\n",
        "  scores=[]\n",
        "\n",
        "  for model in models:\n",
        "    model.fit(x_train,y_train)\n",
        "    y_pred =model.predict(x_test)\n",
        "    score= accuracy_score(y_test,y_pred)\n",
        "    scores.append(score)\n",
        "    Models.append(model)\n",
        "    print(f\"{model} : {score}\")\n",
        "\n",
        "  report =pd.DataFrame()\n",
        "  report[\"Models\"]=Models\n",
        "  report[\"Scores\"]=scores\n",
        "  return report\n"
      ],
      "metadata": {
        "id": "Pcq2mJw6hqnd"
      },
      "id": "Pcq2mJw6hqnd",
      "execution_count": 48,
      "outputs": []
    },
    {
      "cell_type": "code",
      "source": [
        "from sklearn.svm import SVC\n",
        "from sklearn.naive_bayes import MultinomialNB ,BernoulliNB\n",
        "from sklearn.model_selection import train_test_split\n",
        "from sklearn.metrics import accuracy_score, classification_report, confusion_matrix\n",
        "from sklearn.feature_extraction.text import TfidfVectorizer\n",
        "\n",
        "\n",
        "models=[SVC(),MultinomialNB(),BernoulliNB()]\n",
        "report= model_selection(X,y,models,TfidfVectorizer())\n"
      ],
      "metadata": {
        "id": "0D5_mJI6ihWp",
        "colab": {
          "base_uri": "https://localhost:8080/"
        },
        "outputId": "2b06f68f-f2d9-4b0a-c8ee-4dbee8357bbf"
      },
      "id": "0D5_mJI6ihWp",
      "execution_count": 49,
      "outputs": [
        {
          "output_type": "stream",
          "name": "stdout",
          "text": [
            "SVC() : 0.9616267628730731\n",
            "MultinomialNB() : 0.8989832732043292\n",
            "BernoulliNB() : 0.8563463430632995\n"
          ]
        }
      ]
    },
    {
      "cell_type": "code",
      "source": [
        "report.sort_values(by=\"Scores\",ascending=False)"
      ],
      "metadata": {
        "id": "VAmlRd73j733",
        "colab": {
          "base_uri": "https://localhost:8080/",
          "height": 143
        },
        "outputId": "7967bf7e-fafb-40bd-ce3c-90730e1d41f4"
      },
      "id": "VAmlRd73j733",
      "execution_count": 50,
      "outputs": [
        {
          "output_type": "execute_result",
          "data": {
            "text/plain": [
              "            Models    Scores\n",
              "0            SVC()  0.961627\n",
              "1  MultinomialNB()  0.898983\n",
              "2    BernoulliNB()  0.856346"
            ],
            "text/html": [
              "\n",
              "  <div id=\"df-56bc65a7-a100-4728-810a-44d6fda319b3\" class=\"colab-df-container\">\n",
              "    <div>\n",
              "<style scoped>\n",
              "    .dataframe tbody tr th:only-of-type {\n",
              "        vertical-align: middle;\n",
              "    }\n",
              "\n",
              "    .dataframe tbody tr th {\n",
              "        vertical-align: top;\n",
              "    }\n",
              "\n",
              "    .dataframe thead th {\n",
              "        text-align: right;\n",
              "    }\n",
              "</style>\n",
              "<table border=\"1\" class=\"dataframe\">\n",
              "  <thead>\n",
              "    <tr style=\"text-align: right;\">\n",
              "      <th></th>\n",
              "      <th>Models</th>\n",
              "      <th>Scores</th>\n",
              "    </tr>\n",
              "  </thead>\n",
              "  <tbody>\n",
              "    <tr>\n",
              "      <th>0</th>\n",
              "      <td>SVC()</td>\n",
              "      <td>0.961627</td>\n",
              "    </tr>\n",
              "    <tr>\n",
              "      <th>1</th>\n",
              "      <td>MultinomialNB()</td>\n",
              "      <td>0.898983</td>\n",
              "    </tr>\n",
              "    <tr>\n",
              "      <th>2</th>\n",
              "      <td>BernoulliNB()</td>\n",
              "      <td>0.856346</td>\n",
              "    </tr>\n",
              "  </tbody>\n",
              "</table>\n",
              "</div>\n",
              "    <div class=\"colab-df-buttons\">\n",
              "      \n",
              "  <div class=\"colab-df-container\">\n",
              "    <button class=\"colab-df-convert\" onclick=\"convertToInteractive('df-56bc65a7-a100-4728-810a-44d6fda319b3')\"\n",
              "            title=\"Convert this dataframe to an interactive table.\"\n",
              "            style=\"display:none;\">\n",
              "      \n",
              "  <svg xmlns=\"http://www.w3.org/2000/svg\" height=\"24px\" viewBox=\"0 -960 960 960\">\n",
              "    <path d=\"M120-120v-720h720v720H120Zm60-500h600v-160H180v160Zm220 220h160v-160H400v160Zm0 220h160v-160H400v160ZM180-400h160v-160H180v160Zm440 0h160v-160H620v160ZM180-180h160v-160H180v160Zm440 0h160v-160H620v160Z\"/>\n",
              "  </svg>\n",
              "    </button>\n",
              "    \n",
              "  <style>\n",
              "    .colab-df-container {\n",
              "      display:flex;\n",
              "      gap: 12px;\n",
              "    }\n",
              "\n",
              "    .colab-df-convert {\n",
              "      background-color: #E8F0FE;\n",
              "      border: none;\n",
              "      border-radius: 50%;\n",
              "      cursor: pointer;\n",
              "      display: none;\n",
              "      fill: #1967D2;\n",
              "      height: 32px;\n",
              "      padding: 0 0 0 0;\n",
              "      width: 32px;\n",
              "    }\n",
              "\n",
              "    .colab-df-convert:hover {\n",
              "      background-color: #E2EBFA;\n",
              "      box-shadow: 0px 1px 2px rgba(60, 64, 67, 0.3), 0px 1px 3px 1px rgba(60, 64, 67, 0.15);\n",
              "      fill: #174EA6;\n",
              "    }\n",
              "\n",
              "    .colab-df-buttons div {\n",
              "      margin-bottom: 4px;\n",
              "    }\n",
              "\n",
              "    [theme=dark] .colab-df-convert {\n",
              "      background-color: #3B4455;\n",
              "      fill: #D2E3FC;\n",
              "    }\n",
              "\n",
              "    [theme=dark] .colab-df-convert:hover {\n",
              "      background-color: #434B5C;\n",
              "      box-shadow: 0px 1px 3px 1px rgba(0, 0, 0, 0.15);\n",
              "      filter: drop-shadow(0px 1px 2px rgba(0, 0, 0, 0.3));\n",
              "      fill: #FFFFFF;\n",
              "    }\n",
              "  </style>\n",
              "\n",
              "    <script>\n",
              "      const buttonEl =\n",
              "        document.querySelector('#df-56bc65a7-a100-4728-810a-44d6fda319b3 button.colab-df-convert');\n",
              "      buttonEl.style.display =\n",
              "        google.colab.kernel.accessAllowed ? 'block' : 'none';\n",
              "\n",
              "      async function convertToInteractive(key) {\n",
              "        const element = document.querySelector('#df-56bc65a7-a100-4728-810a-44d6fda319b3');\n",
              "        const dataTable =\n",
              "          await google.colab.kernel.invokeFunction('convertToInteractive',\n",
              "                                                    [key], {});\n",
              "        if (!dataTable) return;\n",
              "\n",
              "        const docLinkHtml = 'Like what you see? Visit the ' +\n",
              "          '<a target=\"_blank\" href=https://colab.research.google.com/notebooks/data_table.ipynb>data table notebook</a>'\n",
              "          + ' to learn more about interactive tables.';\n",
              "        element.innerHTML = '';\n",
              "        dataTable['output_type'] = 'display_data';\n",
              "        await google.colab.output.renderOutput(dataTable, element);\n",
              "        const docLink = document.createElement('div');\n",
              "        docLink.innerHTML = docLinkHtml;\n",
              "        element.appendChild(docLink);\n",
              "      }\n",
              "    </script>\n",
              "  </div>\n",
              "  \n",
              "    </div>\n",
              "  </div>\n",
              "  "
            ]
          },
          "metadata": {},
          "execution_count": 50
        }
      ]
    },
    {
      "cell_type": "markdown",
      "source": [
        "- ### From the report above we can see that the SVM model performed the best, so we will continue training our model."
      ],
      "metadata": {
        "id": "20h8a2T_mC7U"
      },
      "id": "20h8a2T_mC7U"
    },
    {
      "cell_type": "code",
      "source": [
        "from sklearn.model_selection import train_test_split\n",
        "from sklearn.feature_extraction.text import TfidfVectorizer\n",
        "vectorizer =TfidfVectorizer()\n",
        "X_train, X_test, y_train, y_test = train_test_split(X,y, test_size=0.2, random_state=42)\n",
        "X_train = vectorizer.fit_transform(X_train)\n",
        "X_test = vectorizer.transform(X_test)\n",
        "print(\"X_train shape:\", X_train.shape)\n",
        "print(\"X_test shape:\", X_test.shape)\n",
        "print(\"y_train shape:\", y_train.shape)\n",
        "print(\"y_test shape:\", y_test.shape)"
      ],
      "metadata": {
        "id": "Yjiw_Xmwl0I-",
        "colab": {
          "base_uri": "https://localhost:8080/"
        },
        "outputId": "76e2e659-a2fa-494a-9dc1-0a1cd41bf9d5"
      },
      "id": "Yjiw_Xmwl0I-",
      "execution_count": 51,
      "outputs": [
        {
          "output_type": "stream",
          "name": "stdout",
          "text": [
            "X_train shape: (8129, 46863)\n",
            "X_test shape: (2033, 46863)\n",
            "y_train shape: (8129,)\n",
            "y_test shape: (2033,)\n"
          ]
        }
      ]
    },
    {
      "cell_type": "markdown",
      "source": [
        "SVM tries to draw the widest possible boundary between classes, so new points can be classified with maximum confidence."
      ],
      "metadata": {
        "id": "iK51MyJDuUEh"
      },
      "id": "iK51MyJDuUEh"
    },
    {
      "cell_type": "code",
      "source": [
        "from sklearn.svm import SVC\n",
        "import numpy as np\n",
        "from sklearn.model_selection import GridSearchCV\n",
        "\n",
        "param={\n",
        "    \"C\": [0.73,0.74,0.74780397,0.75,0.79,0.8,0.82,0.87,.88,0.9,0.95,1]\n",
        "}\n",
        "print(\"parameters :\",param)\n",
        "\n",
        "svc_model = SVC()\n",
        "svc_cv = GridSearchCV(svc_model, param, cv = 10,scoring=\"accuracy\",verbose=1,n_jobs=-1)\n",
        "svc_cv.fit(X_train, y_train)"
      ],
      "metadata": {
        "id": "Epj8tFQmx_4b",
        "outputId": "668ea677-410e-4e28-a624-3937dcddc26b",
        "colab": {
          "base_uri": "https://localhost:8080/"
        }
      },
      "id": "Epj8tFQmx_4b",
      "execution_count": null,
      "outputs": [
        {
          "output_type": "stream",
          "name": "stdout",
          "text": [
            "parameters : {'C': [0.735, 0.74, 0.74780397, 0.75, 0.79, 0.8, 0.82, 0.87, 0.88, 0.9, 0.95, 1]}\n",
            "Fitting 10 folds for each of 12 candidates, totalling 120 fits\n"
          ]
        }
      ]
    },
    {
      "cell_type": "code",
      "source": [
        "#best param\n",
        "print(\"tuned hpyerparameters :(best parameters) \",svc_cv.best_params_)\n",
        "print(\"accuracy :\",svc_cv.best_score_)\n"
      ],
      "metadata": {
        "id": "N9BHRVgZwl3Y",
        "colab": {
          "base_uri": "https://localhost:8080/"
        },
        "outputId": "d7b9f732-64ad-4360-bf91-b0c0d079e44a"
      },
      "id": "N9BHRVgZwl3Y",
      "execution_count": 47,
      "outputs": [
        {
          "output_type": "stream",
          "name": "stdout",
          "text": [
            "tuned hpyerparameters :(best parameters)  {'C': np.float64(0.7478039740871653)}\n",
            "accuracy : 0.9344309526839112\n"
          ]
        }
      ]
    },
    {
      "cell_type": "code",
      "source": [
        "spam_detect_model = SVC(**svc_cv.best_params_)\n",
        "spam_detect_model.fit(X_train, y_train)\n",
        "y_pred = spam_detect_model.predict(X_test)\n",
        "confusion_m = confusion_matrix(y_test, y_pred)\n",
        "accuracy = accuracy_score(y_test, y_pred)\n",
        "\n",
        "print(f\"Accuracy of the model is {accuracy}\")\n",
        "print(f\"The confusion matrix is: \\n{confusion_m}\")\n"
      ],
      "metadata": {
        "id": "H_dLw0U8xifr",
        "colab": {
          "base_uri": "https://localhost:8080/"
        },
        "outputId": "fc6dcb41-e007-4060-8502-c176e5334ed8"
      },
      "id": "H_dLw0U8xifr",
      "execution_count": 37,
      "outputs": [
        {
          "output_type": "stream",
          "name": "stdout",
          "text": [
            "Accuracy of the model is 0.9547466797835711\n",
            "The confusion matrix is: \n",
            "[[1610    5]\n",
            " [  87  331]]\n"
          ]
        }
      ]
    },
    {
      "cell_type": "code",
      "source": [
        "from sklearn.metrics import classification_report,precision_score,f1_score\n",
        "print(f1_score(y_test,y_pred))\n",
        "print(precision_score(y_test,y_pred)*100)"
      ],
      "metadata": {
        "id": "RC4kazesl0AN",
        "colab": {
          "base_uri": "https://localhost:8080/"
        },
        "outputId": "d003b7f7-1401-4236-ed4f-00a887326c02"
      },
      "id": "RC4kazesl0AN",
      "execution_count": 38,
      "outputs": [
        {
          "output_type": "stream",
          "name": "stdout",
          "text": [
            "98.51190476190477\n"
          ]
        }
      ]
    },
    {
      "cell_type": "code",
      "source": [
        "import pickle\n",
        "with open(\"model.pkl\",\"wb\") as file:\n",
        "  pickle.dump(spam_detect_model,file)\n",
        "\n",
        "with open(\"vectorizer.pkl\", \"wb\") as f:\n",
        "    pickle.dump(vectorizer, f)"
      ],
      "metadata": {
        "id": "yXsNoSw4CN3o"
      },
      "id": "yXsNoSw4CN3o",
      "execution_count": 39,
      "outputs": []
    },
    {
      "cell_type": "code",
      "source": [],
      "metadata": {
        "id": "ubElio2aFgv5"
      },
      "id": "ubElio2aFgv5",
      "execution_count": 39,
      "outputs": []
    },
    {
      "cell_type": "code",
      "source": [
        "\n",
        "def preprocess_text_unseen_data(text,vectorizer):\n",
        "  text =text.lower()\n",
        "  text = re.sub(r'[^a-zA-Z0-9\\s]', '', text)\n",
        "  words = text.split()\n",
        "  stop_words = set(stopwords.words('english'))\n",
        "  lemmatizer = WordNetLemmatizer()\n",
        "  words_without_stopwords = [i for i in words if i not in stop_words]\n",
        "  lemmatizer_words =[lemmatizer.lemmatize(i) for i in words_without_stopwords]\n",
        "  documents= \" \".join(lemmatizer_words)\n",
        "  return vectorizer.transform([documents])\n"
      ],
      "metadata": {
        "id": "m3l4qbbslz3F"
      },
      "id": "m3l4qbbslz3F",
      "execution_count": 40,
      "outputs": []
    },
    {
      "cell_type": "code",
      "source": [
        "with open(\"model.pkl\", \"rb\") as file:\n",
        "    loaded_model = pickle.load(file)\n",
        "\n",
        "with open(\"vectorizer.pkl\",\"rb\") as file:\n",
        "    loaded_vectorized= pickle.load(file)\n",
        "\n",
        "# Use it for prediction\n",
        "\n"
      ],
      "metadata": {
        "id": "nUuvzvh4CmIQ"
      },
      "id": "nUuvzvh4CmIQ",
      "execution_count": 41,
      "outputs": []
    },
    {
      "cell_type": "code",
      "source": [
        "text =\"FreeMsg Hey there darling it's been 3 week's now and no word back! I'd like some fun you up for it still? Tb ok! XxX std chgs to send, �1.50 to rcv\"\n",
        "preprocessed_text = preprocess_text_unseen_data(text,loaded_vectorized)\n",
        "predictions = loaded_model.predict(preprocessed_text)\n",
        "print(predictions)"
      ],
      "metadata": {
        "id": "z2X_O_nxOQR3",
        "outputId": "2c12668e-cdaa-42bc-fd07-91371488eeec",
        "colab": {
          "base_uri": "https://localhost:8080/"
        }
      },
      "id": "z2X_O_nxOQR3",
      "execution_count": 42,
      "outputs": [
        {
          "output_type": "stream",
          "name": "stdout",
          "text": [
            "[1]\n"
          ]
        }
      ]
    },
    {
      "cell_type": "code",
      "source": [
        "#create pipeline\n",
        "#message - lower case -remove stopwords -tokenization -lemmatization- predict"
      ],
      "metadata": {
        "id": "Swaakii8lz9Q"
      },
      "id": "Swaakii8lz9Q",
      "execution_count": 43,
      "outputs": []
    },
    {
      "cell_type": "code",
      "source": [
        "d=pd.read_csv(\"sms.csv\")"
      ],
      "metadata": {
        "id": "j76YcVeQGPNa"
      },
      "id": "j76YcVeQGPNa",
      "execution_count": 44,
      "outputs": []
    },
    {
      "cell_type": "code",
      "source": [
        "d.head(10)"
      ],
      "metadata": {
        "id": "FurIdCNdOYzf",
        "outputId": "adb42ba8-b100-4bf9-cdc1-527cd19c39a8",
        "colab": {
          "base_uri": "https://localhost:8080/",
          "height": 363
        }
      },
      "id": "FurIdCNdOYzf",
      "execution_count": 45,
      "outputs": [
        {
          "output_type": "execute_result",
          "data": {
            "text/plain": [
              "  Label                                            Message Unnamed: 2  \\\n",
              "0   ham  Go until jurong point, crazy.. Available only ...        NaN   \n",
              "1   ham                      Ok lar... Joking wif u oni...        NaN   \n",
              "2  spam  Free entry in 2 a wkly comp to win FA Cup fina...        NaN   \n",
              "3   ham  U dun say so early hor... U c already then say...        NaN   \n",
              "4   ham  Nah I don't think he goes to usf, he lives aro...        NaN   \n",
              "5  spam  FreeMsg Hey there darling it's been 3 week's n...        NaN   \n",
              "6   ham  Even my brother is not like to speak with me. ...        NaN   \n",
              "7   ham  As per your request 'Melle Melle (Oru Minnamin...        NaN   \n",
              "8  spam  WINNER!! As a valued network customer you have...        NaN   \n",
              "9  spam  Had your mobile 11 months or more? U R entitle...        NaN   \n",
              "\n",
              "  Unnamed: 3 Unnamed: 4  \n",
              "0        NaN        NaN  \n",
              "1        NaN        NaN  \n",
              "2        NaN        NaN  \n",
              "3        NaN        NaN  \n",
              "4        NaN        NaN  \n",
              "5        NaN        NaN  \n",
              "6        NaN        NaN  \n",
              "7        NaN        NaN  \n",
              "8        NaN        NaN  \n",
              "9        NaN        NaN  "
            ],
            "text/html": [
              "\n",
              "  <div id=\"df-e5c55acd-5d2d-4207-91a2-4c8b222279b4\" class=\"colab-df-container\">\n",
              "    <div>\n",
              "<style scoped>\n",
              "    .dataframe tbody tr th:only-of-type {\n",
              "        vertical-align: middle;\n",
              "    }\n",
              "\n",
              "    .dataframe tbody tr th {\n",
              "        vertical-align: top;\n",
              "    }\n",
              "\n",
              "    .dataframe thead th {\n",
              "        text-align: right;\n",
              "    }\n",
              "</style>\n",
              "<table border=\"1\" class=\"dataframe\">\n",
              "  <thead>\n",
              "    <tr style=\"text-align: right;\">\n",
              "      <th></th>\n",
              "      <th>Label</th>\n",
              "      <th>Message</th>\n",
              "      <th>Unnamed: 2</th>\n",
              "      <th>Unnamed: 3</th>\n",
              "      <th>Unnamed: 4</th>\n",
              "    </tr>\n",
              "  </thead>\n",
              "  <tbody>\n",
              "    <tr>\n",
              "      <th>0</th>\n",
              "      <td>ham</td>\n",
              "      <td>Go until jurong point, crazy.. Available only ...</td>\n",
              "      <td>NaN</td>\n",
              "      <td>NaN</td>\n",
              "      <td>NaN</td>\n",
              "    </tr>\n",
              "    <tr>\n",
              "      <th>1</th>\n",
              "      <td>ham</td>\n",
              "      <td>Ok lar... Joking wif u oni...</td>\n",
              "      <td>NaN</td>\n",
              "      <td>NaN</td>\n",
              "      <td>NaN</td>\n",
              "    </tr>\n",
              "    <tr>\n",
              "      <th>2</th>\n",
              "      <td>spam</td>\n",
              "      <td>Free entry in 2 a wkly comp to win FA Cup fina...</td>\n",
              "      <td>NaN</td>\n",
              "      <td>NaN</td>\n",
              "      <td>NaN</td>\n",
              "    </tr>\n",
              "    <tr>\n",
              "      <th>3</th>\n",
              "      <td>ham</td>\n",
              "      <td>U dun say so early hor... U c already then say...</td>\n",
              "      <td>NaN</td>\n",
              "      <td>NaN</td>\n",
              "      <td>NaN</td>\n",
              "    </tr>\n",
              "    <tr>\n",
              "      <th>4</th>\n",
              "      <td>ham</td>\n",
              "      <td>Nah I don't think he goes to usf, he lives aro...</td>\n",
              "      <td>NaN</td>\n",
              "      <td>NaN</td>\n",
              "      <td>NaN</td>\n",
              "    </tr>\n",
              "    <tr>\n",
              "      <th>5</th>\n",
              "      <td>spam</td>\n",
              "      <td>FreeMsg Hey there darling it's been 3 week's n...</td>\n",
              "      <td>NaN</td>\n",
              "      <td>NaN</td>\n",
              "      <td>NaN</td>\n",
              "    </tr>\n",
              "    <tr>\n",
              "      <th>6</th>\n",
              "      <td>ham</td>\n",
              "      <td>Even my brother is not like to speak with me. ...</td>\n",
              "      <td>NaN</td>\n",
              "      <td>NaN</td>\n",
              "      <td>NaN</td>\n",
              "    </tr>\n",
              "    <tr>\n",
              "      <th>7</th>\n",
              "      <td>ham</td>\n",
              "      <td>As per your request 'Melle Melle (Oru Minnamin...</td>\n",
              "      <td>NaN</td>\n",
              "      <td>NaN</td>\n",
              "      <td>NaN</td>\n",
              "    </tr>\n",
              "    <tr>\n",
              "      <th>8</th>\n",
              "      <td>spam</td>\n",
              "      <td>WINNER!! As a valued network customer you have...</td>\n",
              "      <td>NaN</td>\n",
              "      <td>NaN</td>\n",
              "      <td>NaN</td>\n",
              "    </tr>\n",
              "    <tr>\n",
              "      <th>9</th>\n",
              "      <td>spam</td>\n",
              "      <td>Had your mobile 11 months or more? U R entitle...</td>\n",
              "      <td>NaN</td>\n",
              "      <td>NaN</td>\n",
              "      <td>NaN</td>\n",
              "    </tr>\n",
              "  </tbody>\n",
              "</table>\n",
              "</div>\n",
              "    <div class=\"colab-df-buttons\">\n",
              "      \n",
              "  <div class=\"colab-df-container\">\n",
              "    <button class=\"colab-df-convert\" onclick=\"convertToInteractive('df-e5c55acd-5d2d-4207-91a2-4c8b222279b4')\"\n",
              "            title=\"Convert this dataframe to an interactive table.\"\n",
              "            style=\"display:none;\">\n",
              "      \n",
              "  <svg xmlns=\"http://www.w3.org/2000/svg\" height=\"24px\" viewBox=\"0 -960 960 960\">\n",
              "    <path d=\"M120-120v-720h720v720H120Zm60-500h600v-160H180v160Zm220 220h160v-160H400v160Zm0 220h160v-160H400v160ZM180-400h160v-160H180v160Zm440 0h160v-160H620v160ZM180-180h160v-160H180v160Zm440 0h160v-160H620v160Z\"/>\n",
              "  </svg>\n",
              "    </button>\n",
              "    \n",
              "  <style>\n",
              "    .colab-df-container {\n",
              "      display:flex;\n",
              "      gap: 12px;\n",
              "    }\n",
              "\n",
              "    .colab-df-convert {\n",
              "      background-color: #E8F0FE;\n",
              "      border: none;\n",
              "      border-radius: 50%;\n",
              "      cursor: pointer;\n",
              "      display: none;\n",
              "      fill: #1967D2;\n",
              "      height: 32px;\n",
              "      padding: 0 0 0 0;\n",
              "      width: 32px;\n",
              "    }\n",
              "\n",
              "    .colab-df-convert:hover {\n",
              "      background-color: #E2EBFA;\n",
              "      box-shadow: 0px 1px 2px rgba(60, 64, 67, 0.3), 0px 1px 3px 1px rgba(60, 64, 67, 0.15);\n",
              "      fill: #174EA6;\n",
              "    }\n",
              "\n",
              "    .colab-df-buttons div {\n",
              "      margin-bottom: 4px;\n",
              "    }\n",
              "\n",
              "    [theme=dark] .colab-df-convert {\n",
              "      background-color: #3B4455;\n",
              "      fill: #D2E3FC;\n",
              "    }\n",
              "\n",
              "    [theme=dark] .colab-df-convert:hover {\n",
              "      background-color: #434B5C;\n",
              "      box-shadow: 0px 1px 3px 1px rgba(0, 0, 0, 0.15);\n",
              "      filter: drop-shadow(0px 1px 2px rgba(0, 0, 0, 0.3));\n",
              "      fill: #FFFFFF;\n",
              "    }\n",
              "  </style>\n",
              "\n",
              "    <script>\n",
              "      const buttonEl =\n",
              "        document.querySelector('#df-e5c55acd-5d2d-4207-91a2-4c8b222279b4 button.colab-df-convert');\n",
              "      buttonEl.style.display =\n",
              "        google.colab.kernel.accessAllowed ? 'block' : 'none';\n",
              "\n",
              "      async function convertToInteractive(key) {\n",
              "        const element = document.querySelector('#df-e5c55acd-5d2d-4207-91a2-4c8b222279b4');\n",
              "        const dataTable =\n",
              "          await google.colab.kernel.invokeFunction('convertToInteractive',\n",
              "                                                    [key], {});\n",
              "        if (!dataTable) return;\n",
              "\n",
              "        const docLinkHtml = 'Like what you see? Visit the ' +\n",
              "          '<a target=\"_blank\" href=https://colab.research.google.com/notebooks/data_table.ipynb>data table notebook</a>'\n",
              "          + ' to learn more about interactive tables.';\n",
              "        element.innerHTML = '';\n",
              "        dataTable['output_type'] = 'display_data';\n",
              "        await google.colab.output.renderOutput(dataTable, element);\n",
              "        const docLink = document.createElement('div');\n",
              "        docLink.innerHTML = docLinkHtml;\n",
              "        element.appendChild(docLink);\n",
              "      }\n",
              "    </script>\n",
              "  </div>\n",
              "  \n",
              "    </div>\n",
              "  </div>\n",
              "  "
            ]
          },
          "metadata": {},
          "execution_count": 45
        }
      ]
    },
    {
      "cell_type": "code",
      "source": [
        "d[\"Message\"][5]"
      ],
      "metadata": {
        "colab": {
          "base_uri": "https://localhost:8080/",
          "height": 53
        },
        "id": "MRJASjURDHW9",
        "outputId": "f0df3c73-97d7-4d63-f7c2-ab9db9d52d39"
      },
      "id": "MRJASjURDHW9",
      "execution_count": 46,
      "outputs": [
        {
          "output_type": "execute_result",
          "data": {
            "text/plain": [
              "\"FreeMsg Hey there darling it's been 3 week's now and no word back! I'd like some fun you up for it still? Tb ok! XxX std chgs to send, �1.50 to rcv\""
            ],
            "application/vnd.google.colaboratory.intrinsic+json": {
              "type": "string"
            }
          },
          "metadata": {},
          "execution_count": 46
        }
      ]
    },
    {
      "cell_type": "code",
      "source": [],
      "metadata": {
        "id": "5RhuoX_GDJbH"
      },
      "id": "5RhuoX_GDJbH",
      "execution_count": 46,
      "outputs": []
    }
  ],
  "metadata": {
    "kernelspec": {
      "display_name": "Python 3.10 (venv310)",
      "language": "python",
      "name": "venv310"
    },
    "language_info": {
      "codemirror_mode": {
        "name": "ipython",
        "version": 3
      },
      "file_extension": ".py",
      "mimetype": "text/x-python",
      "name": "python",
      "nbconvert_exporter": "python",
      "pygments_lexer": "ipython3",
      "version": "3.10.11"
    },
    "colab": {
      "provenance": [],
      "include_colab_link": true
    }
  },
  "nbformat": 4,
  "nbformat_minor": 5
}
>>>>>>> 9cdb72d28878d44f0ec6a3f916165c8c43e4ce60
