{
  "cells": [
    {
      "cell_type": "code",
      "execution_count": null,
      "id": "cbac980a",
      "metadata": {
        "id": "cbac980a"
      },
      "outputs": [],
      "source": [
        "import pandas as pd\n",
        "import numpy as np\n",
        "import matplotlib.pyplot as plt\n",
        "import seaborn as sns\n"
      ]
    },
    {
      "cell_type": "code",
      "execution_count": null,
      "id": "f3d57d03",
      "metadata": {
        "colab": {
          "base_uri": "https://localhost:8080/",
          "height": 423
        },
        "id": "f3d57d03",
        "outputId": "9cd56209-f781-4b57-ca70-c5b07ffcb222"
      },
      "outputs": [
        {
          "data": {
            "text/html": [
              "<div>\n",
              "<style scoped>\n",
              "    .dataframe tbody tr th:only-of-type {\n",
              "        vertical-align: middle;\n",
              "    }\n",
              "\n",
              "    .dataframe tbody tr th {\n",
              "        vertical-align: top;\n",
              "    }\n",
              "\n",
              "    .dataframe thead th {\n",
              "        text-align: right;\n",
              "    }\n",
              "</style>\n",
              "<table border=\"1\" class=\"dataframe\">\n",
              "  <thead>\n",
              "    <tr style=\"text-align: right;\">\n",
              "      <th></th>\n",
              "      <th>Label</th>\n",
              "      <th>Message</th>\n",
              "    </tr>\n",
              "  </thead>\n",
              "  <tbody>\n",
              "    <tr>\n",
              "      <th>0</th>\n",
              "      <td>ham</td>\n",
              "      <td>Go until jurong point, crazy.. Available only ...</td>\n",
              "    </tr>\n",
              "    <tr>\n",
              "      <th>1</th>\n",
              "      <td>ham</td>\n",
              "      <td>Ok lar... Joking wif u oni...</td>\n",
              "    </tr>\n",
              "    <tr>\n",
              "      <th>2</th>\n",
              "      <td>spam</td>\n",
              "      <td>Free entry in 2 a wkly comp to win FA Cup fina...</td>\n",
              "    </tr>\n",
              "    <tr>\n",
              "      <th>3</th>\n",
              "      <td>ham</td>\n",
              "      <td>U dun say so early hor... U c already then say...</td>\n",
              "    </tr>\n",
              "    <tr>\n",
              "      <th>4</th>\n",
              "      <td>ham</td>\n",
              "      <td>Nah I don't think he goes to usf, he lives aro...</td>\n",
              "    </tr>\n",
              "    <tr>\n",
              "      <th>...</th>\n",
              "      <td>...</td>\n",
              "      <td>...</td>\n",
              "    </tr>\n",
              "    <tr>\n",
              "      <th>5567</th>\n",
              "      <td>spam</td>\n",
              "      <td>This is the 2nd time we have tried 2 contact u...</td>\n",
              "    </tr>\n",
              "    <tr>\n",
              "      <th>5568</th>\n",
              "      <td>ham</td>\n",
              "      <td>Will �_ b going to esplanade fr home?</td>\n",
              "    </tr>\n",
              "    <tr>\n",
              "      <th>5569</th>\n",
              "      <td>ham</td>\n",
              "      <td>Pity, * was in mood for that. So...any other s...</td>\n",
              "    </tr>\n",
              "    <tr>\n",
              "      <th>5570</th>\n",
              "      <td>ham</td>\n",
              "      <td>The guy did some bitching but I acted like i'd...</td>\n",
              "    </tr>\n",
              "    <tr>\n",
              "      <th>5571</th>\n",
              "      <td>ham</td>\n",
              "      <td>Rofl. Its true to its name</td>\n",
              "    </tr>\n",
              "  </tbody>\n",
              "</table>\n",
              "<p>5572 rows × 2 columns</p>\n",
              "</div>"
            ],
            "text/plain": [
              "     Label                                            Message\n",
              "0      ham  Go until jurong point, crazy.. Available only ...\n",
              "1      ham                      Ok lar... Joking wif u oni...\n",
              "2     spam  Free entry in 2 a wkly comp to win FA Cup fina...\n",
              "3      ham  U dun say so early hor... U c already then say...\n",
              "4      ham  Nah I don't think he goes to usf, he lives aro...\n",
              "...    ...                                                ...\n",
              "5567  spam  This is the 2nd time we have tried 2 contact u...\n",
              "5568   ham              Will �_ b going to esplanade fr home?\n",
              "5569   ham  Pity, * was in mood for that. So...any other s...\n",
              "5570   ham  The guy did some bitching but I acted like i'd...\n",
              "5571   ham                         Rofl. Its true to its name\n",
              "\n",
              "[5572 rows x 2 columns]"
            ]
          },
          "execution_count": 3,
          "metadata": {},
          "output_type": "execute_result"
        }
      ],
      "source": [
        "sms = pd.read_csv(\"sms.csv\",usecols=[0,1])\n",
        "sms"
      ]
    },
    {
      "cell_type": "code",
      "execution_count": null,
      "id": "7d4532d3",
      "metadata": {
        "colab": {
          "base_uri": "https://localhost:8080/",
          "height": 147
        },
        "id": "7d4532d3",
        "outputId": "cfd45087-d6e9-4c29-d0dd-0a29d3918a51"
      },
      "outputs": [
        {
          "data": {
            "text/plain": [
              "Label      0\n",
              "Message    0\n",
              "dtype: int64"
            ]
          },
          "execution_count": 4,
          "metadata": {},
          "output_type": "execute_result"
        }
      ],
      "source": [
        "sms.isnull().sum()"
      ]
    },
    {
      "cell_type": "code",
      "execution_count": null,
      "id": "979bb8a5",
      "metadata": {
        "colab": {
          "base_uri": "https://localhost:8080/"
        },
        "id": "979bb8a5",
        "outputId": "29554bf1-b267-4f9d-b078-a54217b3b53f"
      },
      "outputs": [
        {
          "data": {
            "text/plain": [
              "np.int64(403)"
            ]
          },
          "execution_count": 5,
          "metadata": {},
          "output_type": "execute_result"
        }
      ],
      "source": [
        "sms.duplicated().sum()"
      ]
    },
    {
      "cell_type": "code",
      "execution_count": null,
      "id": "a4d6bc9b",
      "metadata": {
        "colab": {
          "base_uri": "https://localhost:8080/"
        },
        "id": "a4d6bc9b",
        "outputId": "47140370-c00e-4d06-a3d2-c90447244810"
      },
      "outputs": [
        {
          "data": {
            "text/plain": [
              "np.int64(0)"
            ]
          },
          "execution_count": 6,
          "metadata": {},
          "output_type": "execute_result"
        }
      ],
      "source": [
        "sms.drop_duplicates(inplace=True)\n",
        "sms.reset_index(drop=True,inplace=True)\n",
        "sms.duplicated().sum()"
      ]
    },
    {
      "cell_type": "code",
      "execution_count": null,
      "id": "b3e76aba",
      "metadata": {
        "colab": {
          "base_uri": "https://localhost:8080/"
        },
        "id": "b3e76aba",
        "outputId": "32264593-ecc1-433a-aff1-87c6aa4dc1cf"
      },
      "outputs": [
        {
          "data": {
            "text/plain": [
              "(5169, 2)"
            ]
          },
          "execution_count": 7,
          "metadata": {},
          "output_type": "execute_result"
        }
      ],
      "source": [
        "sms.shape"
      ]
    },
    {
      "cell_type": "code",
      "execution_count": null,
      "id": "d48d4125",
      "metadata": {
        "colab": {
          "base_uri": "https://localhost:8080/",
          "height": 178
        },
        "id": "d48d4125",
        "outputId": "0bd3f42c-6042-44b4-a1f6-48770d031ebd"
      },
      "outputs": [
        {
          "data": {
            "text/plain": [
              "Label\n",
              "ham     87.366996\n",
              "spam    12.633004\n",
              "Name: proportion, dtype: float64"
            ]
          },
          "execution_count": 8,
          "metadata": {},
          "output_type": "execute_result"
        }
      ],
      "source": [
        "sms[\"Label\"].value_counts(normalize=True)*100"
      ]
    },
    {
      "cell_type": "code",
      "execution_count": null,
      "id": "8a5c8a17",
      "metadata": {
        "colab": {
          "base_uri": "https://localhost:8080/",
          "height": 510
        },
        "id": "8a5c8a17",
        "outputId": "8dee97ca-c20d-4af9-ac33-9298b3797413"
      },
      "outputs": [
        {
          "data": {
            "text/plain": [
              "([<matplotlib.patches.Wedge at 0x22bc0e6d7b0>,\n",
              "  <matplotlib.patches.Wedge at 0x22bc0e6d6f0>],\n",
              " [Text(-1.014499732282844, 0.4251944181172162, 'ham'),\n",
              "  Text(1.0144998708287172, -0.42519408755122207, 'spam')],\n",
              " [Text(-0.5533634903360967, 0.2319242280639361, '87.37%'),\n",
              "  Text(0.553363565906573, -0.231924047755212, '12.63%')])"
            ]
          },
          "execution_count": 9,
          "metadata": {},
          "output_type": "execute_result"
        },
        {
          "data": {
            "image/png": "[encoded data removed]",
            "text/plain": [
              "<Figure size 640x480 with 1 Axes>"
            ]
          },
          "metadata": {},
          "output_type": "display_data"
        }
      ],
      "source": [
        "plt.pie(sms[\"Label\"].value_counts()*100,labels=[\"ham\",\"spam\"],autopct=\"%1.2f%%\")"
      ]
    },
    {
      "cell_type": "code",
      "execution_count": null,
      "id": "CXGu9O6D_0CG",
      "metadata": {
        "colab": {
          "base_uri": "https://localhost:8080/",
          "height": 423
        },
        "id": "CXGu9O6D_0CG",
        "outputId": "60178591-1f09-4400-fdb6-b6f286e887d8"
      },
      "outputs": [
        {
          "data": {
            "text/html": [
              "<div>\n",
              "<style scoped>\n",
              "    .dataframe tbody tr th:only-of-type {\n",
              "        vertical-align: middle;\n",
              "    }\n",
              "\n",
              "    .dataframe tbody tr th {\n",
              "        vertical-align: top;\n",
              "    }\n",
              "\n",
              "    .dataframe thead th {\n",
              "        text-align: right;\n",
              "    }\n",
              "</style>\n",
              "<table border=\"1\" class=\"dataframe\">\n",
              "  <thead>\n",
              "    <tr style=\"text-align: right;\">\n",
              "      <th></th>\n",
              "      <th>label_num</th>\n",
              "      <th>Message</th>\n",
              "    </tr>\n",
              "  </thead>\n",
              "  <tbody>\n",
              "    <tr>\n",
              "      <th>0</th>\n",
              "      <td>0</td>\n",
              "      <td>Subject: enron methanol ; meter # : 988291\\r\\n...</td>\n",
              "    </tr>\n",
              "    <tr>\n",
              "      <th>1</th>\n",
              "      <td>0</td>\n",
              "      <td>Subject: hpl nom for january 9 , 2001\\r\\n( see...</td>\n",
              "    </tr>\n",
              "    <tr>\n",
              "      <th>2</th>\n",
              "      <td>0</td>\n",
              "      <td>Subject: neon retreat\\r\\nho ho ho , we ' re ar...</td>\n",
              "    </tr>\n",
              "    <tr>\n",
              "      <th>3</th>\n",
              "      <td>1</td>\n",
              "      <td>Subject: photoshop , windows , office . cheap ...</td>\n",
              "    </tr>\n",
              "    <tr>\n",
              "      <th>4</th>\n",
              "      <td>0</td>\n",
              "      <td>Subject: re : indian springs\\r\\nthis deal is t...</td>\n",
              "    </tr>\n",
              "    <tr>\n",
              "      <th>...</th>\n",
              "      <td>...</td>\n",
              "      <td>...</td>\n",
              "    </tr>\n",
              "    <tr>\n",
              "      <th>5166</th>\n",
              "      <td>0</td>\n",
              "      <td>Subject: put the 10 on the ft\\r\\nthe transport...</td>\n",
              "    </tr>\n",
              "    <tr>\n",
              "      <th>5167</th>\n",
              "      <td>0</td>\n",
              "      <td>Subject: 3 / 4 / 2000 and following noms\\r\\nhp...</td>\n",
              "    </tr>\n",
              "    <tr>\n",
              "      <th>5168</th>\n",
              "      <td>0</td>\n",
              "      <td>Subject: calpine daily gas nomination\\r\\n&gt;\\r\\n...</td>\n",
              "    </tr>\n",
              "    <tr>\n",
              "      <th>5169</th>\n",
              "      <td>0</td>\n",
              "      <td>Subject: industrial worksheets for august 2000...</td>\n",
              "    </tr>\n",
              "    <tr>\n",
              "      <th>5170</th>\n",
              "      <td>1</td>\n",
              "      <td>Subject: important online banking alert\\r\\ndea...</td>\n",
              "    </tr>\n",
              "  </tbody>\n",
              "</table>\n",
              "<p>5171 rows × 2 columns</p>\n",
              "</div>"
            ],
            "text/plain": [
              "      label_num                                            Message\n",
              "0             0  Subject: enron methanol ; meter # : 988291\\r\\n...\n",
              "1             0  Subject: hpl nom for january 9 , 2001\\r\\n( see...\n",
              "2             0  Subject: neon retreat\\r\\nho ho ho , we ' re ar...\n",
              "3             1  Subject: photoshop , windows , office . cheap ...\n",
              "4             0  Subject: re : indian springs\\r\\nthis deal is t...\n",
              "...         ...                                                ...\n",
              "5166          0  Subject: put the 10 on the ft\\r\\nthe transport...\n",
              "5167          0  Subject: 3 / 4 / 2000 and following noms\\r\\nhp...\n",
              "5168          0  Subject: calpine daily gas nomination\\r\\n>\\r\\n...\n",
              "5169          0  Subject: industrial worksheets for august 2000...\n",
              "5170          1  Subject: important online banking alert\\r\\ndea...\n",
              "\n",
              "[5171 rows x 2 columns]"
            ]
          },
          "execution_count": 10,
          "metadata": {},
          "output_type": "execute_result"
        }
      ],
      "source": [
        "mail = pd.read_csv(\"emails.csv\")\n",
        "mail =mail[[\"label_num\",\"Message\"]]\n",
        "mail"
      ]
    },
    {
      "cell_type": "code",
      "execution_count": null,
      "id": "96KiJYSfAQZz",
      "metadata": {
        "colab": {
          "base_uri": "https://localhost:8080/",
          "height": 147
        },
        "id": "96KiJYSfAQZz",
        "outputId": "95e300ec-d3d6-4749-e1a8-032c15b5808b"
      },
      "outputs": [
        {
          "data": {
            "text/plain": [
              "label_num    0\n",
              "Message      0\n",
              "dtype: int64"
            ]
          },
          "execution_count": 11,
          "metadata": {},
          "output_type": "execute_result"
        }
      ],
      "source": [
        "mail.isnull().sum()"
      ]
    },
    {
      "cell_type": "code",
      "execution_count": null,
      "id": "EdWxTAbxAQWO",
      "metadata": {
        "colab": {
          "base_uri": "https://localhost:8080/"
        },
        "id": "EdWxTAbxAQWO",
        "outputId": "e855068f-5912-4a50-e0f9-6cffc182065b"
      },
      "outputs": [
        {
          "data": {
            "text/plain": [
              "np.int64(178)"
            ]
          },
          "execution_count": 12,
          "metadata": {},
          "output_type": "execute_result"
        }
      ],
      "source": [
        "mail.duplicated().sum()"
      ]
    },
    {
      "cell_type": "code",
      "execution_count": null,
      "id": "-2x3ITWSAQSy",
      "metadata": {
        "colab": {
          "base_uri": "https://localhost:8080/"
        },
        "id": "-2x3ITWSAQSy",
        "outputId": "444ea39c-b552-42b9-8b27-22ba3959c0e4"
      },
      "outputs": [
        {
          "data": {
            "text/plain": [
              "np.int64(0)"
            ]
          },
          "execution_count": 13,
          "metadata": {},
          "output_type": "execute_result"
        }
      ],
      "source": [
        "mail.drop_duplicates(inplace=True)\n",
        "mail.reset_index(drop=True,inplace=True)\n",
        "mail.duplicated().sum()"
      ]
    },
    {
      "cell_type": "code",
      "execution_count": null,
      "id": "vYSWKtgRAQPg",
      "metadata": {
        "colab": {
          "base_uri": "https://localhost:8080/",
          "height": 178
        },
        "id": "vYSWKtgRAQPg",
        "outputId": "5f84afbd-13b6-4c14-e7ac-e7eec0ea81cd"
      },
      "outputs": [
        {
          "data": {
            "text/plain": [
              "label_num\n",
              "0    70.719007\n",
              "1    29.280993\n",
              "Name: proportion, dtype: float64"
            ]
          },
          "execution_count": 14,
          "metadata": {},
          "output_type": "execute_result"
        }
      ],
      "source": [
        "mail[\"label_num\"].value_counts(normalize=True)*100\n"
      ]
    },
    {
      "cell_type": "code",
      "execution_count": null,
      "id": "-9BGn7t_AQNf",
      "metadata": {
        "colab": {
          "base_uri": "https://localhost:8080/",
          "height": 510
        },
        "id": "-9BGn7t_AQNf",
        "outputId": "0a490a8b-d222-4b34-acde-7294ca1c6bbe"
      },
      "outputs": [
        {
          "data": {
            "text/plain": [
              "([<matplotlib.patches.Wedge at 0x22bc10c0c40>,\n",
              "  <matplotlib.patches.Wedge at 0x22bc10c0b80>],\n",
              " [Text(-0.6664987851717366, 0.8750882066195381, 'ham'),\n",
              "  Text(0.6664990703116317, -0.8750879894466217, 'spam')],\n",
              " [Text(-0.36354479191185624, 0.4773208399742935, '70.72%'),\n",
              "  Text(0.36354494744270816, -0.47732072151633903, '29.28%')])"
            ]
          },
          "execution_count": 15,
          "metadata": {},
          "output_type": "execute_result"
        },
        {
          "data": {
            "image/png": "[encoded data removed]",
            "text/plain": [
              "<Figure size 640x480 with 1 Axes>"
            ]
          },
          "metadata": {},
          "output_type": "display_data"
        }
      ],
      "source": [
        "plt.pie(mail[\"label_num\"].value_counts()*100,labels=[\"ham\",\"spam\"],autopct=\"%1.2f%%\")"
      ]
    },
    {
      "cell_type": "code",
      "execution_count": null,
      "id": "WDF7zcbtAQLE",
      "metadata": {
        "id": "WDF7zcbtAQLE"
      },
      "outputs": [],
      "source": [
        "mail[\"label_num\"]\n",
        "mail.rename(columns={\"label_num\":\"Label\"},inplace=True)"
      ]
    },
    {
      "cell_type": "code",
      "execution_count": null,
      "id": "ma_FWCF6CXdT",
      "metadata": {
        "id": "ma_FWCF6CXdT"
      },
      "outputs": [],
      "source": [
        "sms[\"Label\"]= sms[\"Label\"].map({\"ham\":0,\"spam\":1})"
      ]
    },
    {
      "cell_type": "code",
      "execution_count": null,
      "id": "CCFvaqYPAQI-",
      "metadata": {
        "colab": {
          "base_uri": "https://localhost:8080/",
          "height": 423
        },
        "id": "CCFvaqYPAQI-",
        "outputId": "8a12ebab-fe58-4c16-8cb5-ed7d63dd94dc"
      },
      "outputs": [
        {
          "data": {
            "text/html": [
              "<div>\n",
              "<style scoped>\n",
              "    .dataframe tbody tr th:only-of-type {\n",
              "        vertical-align: middle;\n",
              "    }\n",
              "\n",
              "    .dataframe tbody tr th {\n",
              "        vertical-align: top;\n",
              "    }\n",
              "\n",
              "    .dataframe thead th {\n",
              "        text-align: right;\n",
              "    }\n",
              "</style>\n",
              "<table border=\"1\" class=\"dataframe\">\n",
              "  <thead>\n",
              "    <tr style=\"text-align: right;\">\n",
              "      <th></th>\n",
              "      <th>Label</th>\n",
              "      <th>Message</th>\n",
              "    </tr>\n",
              "  </thead>\n",
              "  <tbody>\n",
              "    <tr>\n",
              "      <th>0</th>\n",
              "      <td>0</td>\n",
              "      <td>Go until jurong point, crazy.. Available only ...</td>\n",
              "    </tr>\n",
              "    <tr>\n",
              "      <th>1</th>\n",
              "      <td>0</td>\n",
              "      <td>Ok lar... Joking wif u oni...</td>\n",
              "    </tr>\n",
              "    <tr>\n",
              "      <th>2</th>\n",
              "      <td>1</td>\n",
              "      <td>Free entry in 2 a wkly comp to win FA Cup fina...</td>\n",
              "    </tr>\n",
              "    <tr>\n",
              "      <th>3</th>\n",
              "      <td>0</td>\n",
              "      <td>U dun say so early hor... U c already then say...</td>\n",
              "    </tr>\n",
              "    <tr>\n",
              "      <th>4</th>\n",
              "      <td>0</td>\n",
              "      <td>Nah I don't think he goes to usf, he lives aro...</td>\n",
              "    </tr>\n",
              "    <tr>\n",
              "      <th>...</th>\n",
              "      <td>...</td>\n",
              "      <td>...</td>\n",
              "    </tr>\n",
              "    <tr>\n",
              "      <th>10157</th>\n",
              "      <td>0</td>\n",
              "      <td>Subject: fw : crosstex energy , driscoll ranch...</td>\n",
              "    </tr>\n",
              "    <tr>\n",
              "      <th>10158</th>\n",
              "      <td>0</td>\n",
              "      <td>Subject: put the 10 on the ft\\r\\nthe transport...</td>\n",
              "    </tr>\n",
              "    <tr>\n",
              "      <th>10159</th>\n",
              "      <td>0</td>\n",
              "      <td>Subject: 3 / 4 / 2000 and following noms\\r\\nhp...</td>\n",
              "    </tr>\n",
              "    <tr>\n",
              "      <th>10160</th>\n",
              "      <td>0</td>\n",
              "      <td>Subject: industrial worksheets for august 2000...</td>\n",
              "    </tr>\n",
              "    <tr>\n",
              "      <th>10161</th>\n",
              "      <td>1</td>\n",
              "      <td>Subject: important online banking alert\\r\\ndea...</td>\n",
              "    </tr>\n",
              "  </tbody>\n",
              "</table>\n",
              "<p>10162 rows × 2 columns</p>\n",
              "</div>"
            ],
            "text/plain": [
              "       Label                                            Message\n",
              "0          0  Go until jurong point, crazy.. Available only ...\n",
              "1          0                      Ok lar... Joking wif u oni...\n",
              "2          1  Free entry in 2 a wkly comp to win FA Cup fina...\n",
              "3          0  U dun say so early hor... U c already then say...\n",
              "4          0  Nah I don't think he goes to usf, he lives aro...\n",
              "...      ...                                                ...\n",
              "10157      0  Subject: fw : crosstex energy , driscoll ranch...\n",
              "10158      0  Subject: put the 10 on the ft\\r\\nthe transport...\n",
              "10159      0  Subject: 3 / 4 / 2000 and following noms\\r\\nhp...\n",
              "10160      0  Subject: industrial worksheets for august 2000...\n",
              "10161      1  Subject: important online banking alert\\r\\ndea...\n",
              "\n",
              "[10162 rows x 2 columns]"
            ]
          },
          "execution_count": 18,
          "metadata": {},
          "output_type": "execute_result"
        }
      ],
      "source": [
        "mergeData = pd.concat([sms,mail],axis=0,ignore_index=True)\n",
        "mergeData"
      ]
    },
    {
      "cell_type": "code",
      "execution_count": null,
      "id": "DsXay8oyCokX",
      "metadata": {
        "colab": {
          "base_uri": "https://localhost:8080/",
          "height": 178
        },
        "id": "DsXay8oyCokX",
        "outputId": "1a96307c-ec87-4be5-c4ad-acdcc0c24f89"
      },
      "outputs": [
        {
          "data": {
            "text/plain": [
              "Label\n",
              "0    79.187168\n",
              "1    20.812832\n",
              "Name: proportion, dtype: float64"
            ]
          },
          "execution_count": 19,
          "metadata": {},
          "output_type": "execute_result"
        }
      ],
      "source": [
        "mergeData[\"Label\"].value_counts(normalize=True)*100"
      ]
    },
    {
      "cell_type": "code",
      "execution_count": null,
      "id": "XviPzUPgDRRu",
      "metadata": {
        "id": "XviPzUPgDRRu"
      },
      "outputs": [],
      "source": [
        "mergeData.to_csv(\"Messages.csv\",index=False)"
      ]
    },
    {
      "cell_type": "code",
      "execution_count": null,
      "id": "CotRI7wjEFWU",
      "metadata": {
        "id": "CotRI7wjEFWU"
      },
      "outputs": [],
      "source": [
        "import pandas as pd\n",
        "import re\n",
        "from nltk.corpus import stopwords\n",
        "from nltk.stem import WordNetLemmatizer"
      ]
    },
    {
      "cell_type": "markdown",
      "id": "AqK-nG6sEKax",
      "metadata": {
        "id": "AqK-nG6sEKax"
      },
      "source": [
        "**preprocessing** *"
      ]
    },
    {
      "cell_type": "code",
      "execution_count": null,
      "id": "AshO1KGUERNn",
      "metadata": {
        "colab": {
          "base_uri": "https://localhost:8080/",
          "height": 423
        },
        "id": "AshO1KGUERNn",
        "outputId": "0f69c672-aea0-4d08-e21e-65f85af4da0f"
      },
      "outputs": [
        {
          "data": {
            "text/html": [
              "<div>\n",
              "<style scoped>\n",
              "    .dataframe tbody tr th:only-of-type {\n",
              "        vertical-align: middle;\n",
              "    }\n",
              "\n",
              "    .dataframe tbody tr th {\n",
              "        vertical-align: top;\n",
              "    }\n",
              "\n",
              "    .dataframe thead th {\n",
              "        text-align: right;\n",
              "    }\n",
              "</style>\n",
              "<table border=\"1\" class=\"dataframe\">\n",
              "  <thead>\n",
              "    <tr style=\"text-align: right;\">\n",
              "      <th></th>\n",
              "      <th>Label</th>\n",
              "      <th>Message</th>\n",
              "    </tr>\n",
              "  </thead>\n",
              "  <tbody>\n",
              "    <tr>\n",
              "      <th>0</th>\n",
              "      <td>0</td>\n",
              "      <td>Go until jurong point, crazy.. Available only ...</td>\n",
              "    </tr>\n",
              "    <tr>\n",
              "      <th>1</th>\n",
              "      <td>0</td>\n",
              "      <td>Ok lar... Joking wif u oni...</td>\n",
              "    </tr>\n",
              "    <tr>\n",
              "      <th>2</th>\n",
              "      <td>1</td>\n",
              "      <td>Free entry in 2 a wkly comp to win FA Cup fina...</td>\n",
              "    </tr>\n",
              "    <tr>\n",
              "      <th>3</th>\n",
              "      <td>0</td>\n",
              "      <td>U dun say so early hor... U c already then say...</td>\n",
              "    </tr>\n",
              "    <tr>\n",
              "      <th>4</th>\n",
              "      <td>0</td>\n",
              "      <td>Nah I don't think he goes to usf, he lives aro...</td>\n",
              "    </tr>\n",
              "    <tr>\n",
              "      <th>...</th>\n",
              "      <td>...</td>\n",
              "      <td>...</td>\n",
              "    </tr>\n",
              "    <tr>\n",
              "      <th>10157</th>\n",
              "      <td>0</td>\n",
              "      <td>Subject: fw : crosstex energy , driscoll ranch...</td>\n",
              "    </tr>\n",
              "    <tr>\n",
              "      <th>10158</th>\n",
              "      <td>0</td>\n",
              "      <td>Subject: put the 10 on the ft\\r\\nthe transport...</td>\n",
              "    </tr>\n",
              "    <tr>\n",
              "      <th>10159</th>\n",
              "      <td>0</td>\n",
              "      <td>Subject: 3 / 4 / 2000 and following noms\\r\\nhp...</td>\n",
              "    </tr>\n",
              "    <tr>\n",
              "      <th>10160</th>\n",
              "      <td>0</td>\n",
              "      <td>Subject: industrial worksheets for august 2000...</td>\n",
              "    </tr>\n",
              "    <tr>\n",
              "      <th>10161</th>\n",
              "      <td>1</td>\n",
              "      <td>Subject: important online banking alert\\r\\ndea...</td>\n",
              "    </tr>\n",
              "  </tbody>\n",
              "</table>\n",
              "<p>10162 rows × 2 columns</p>\n",
              "</div>"
            ],
            "text/plain": [
              "       Label                                            Message\n",
              "0          0  Go until jurong point, crazy.. Available only ...\n",
              "1          0                      Ok lar... Joking wif u oni...\n",
              "2          1  Free entry in 2 a wkly comp to win FA Cup fina...\n",
              "3          0  U dun say so early hor... U c already then say...\n",
              "4          0  Nah I don't think he goes to usf, he lives aro...\n",
              "...      ...                                                ...\n",
              "10157      0  Subject: fw : crosstex energy , driscoll ranch...\n",
              "10158      0  Subject: put the 10 on the ft\\r\\nthe transport...\n",
              "10159      0  Subject: 3 / 4 / 2000 and following noms\\r\\nhp...\n",
              "10160      0  Subject: industrial worksheets for august 2000...\n",
              "10161      1  Subject: important online banking alert\\r\\ndea...\n",
              "\n",
              "[10162 rows x 2 columns]"
            ]
          },
          "execution_count": 22,
          "metadata": {},
          "output_type": "execute_result"
        }
      ],
      "source": [
        "Messages =pd.read_csv(\"Messages.csv\")\n",
        "Messages"
      ]
    },
    {
      "cell_type": "code",
      "execution_count": null,
      "id": "v4LeP5L6E_tA",
      "metadata": {
        "colab": {
          "base_uri": "https://localhost:8080/",
          "height": 458
        },
        "collapsed": true,
        "id": "v4LeP5L6E_tA",
        "outputId": "e6389b20-6f3c-42aa-aa90-68d52dd76647"
      },
      "outputs": [
        {
          "data": {
            "text/plain": [
              "0        Go until jurong point, crazy.. Available only ...\n",
              "1                            Ok lar... Joking wif u oni...\n",
              "2        Free entry in 2 a wkly comp to win FA Cup fina...\n",
              "3        U dun say so early hor... U c already then say...\n",
              "4        Nah I don't think he goes to usf, he lives aro...\n",
              "                               ...                        \n",
              "10157    Subject: fw : crosstex energy , driscoll ranch...\n",
              "10158    Subject: put the 10 on the ft\\r\\nthe transport...\n",
              "10159    Subject: 3 / 4 / 2000 and following noms\\r\\nhp...\n",
              "10160    Subject: industrial worksheets for august 2000...\n",
              "10161    Subject: important online banking alert\\r\\ndea...\n",
              "Name: Message, Length: 10162, dtype: object"
            ]
          },
          "execution_count": 23,
          "metadata": {},
          "output_type": "execute_result"
        }
      ],
      "source": [
        "data =Messages[\"Message\"]\n",
        "data"
      ]
    },
    {
      "cell_type": "code",
      "execution_count": null,
      "id": "ErhEB09RHZDX",
      "metadata": {
        "colab": {
          "base_uri": "https://localhost:8080/"
        },
        "id": "ErhEB09RHZDX",
        "outputId": "e364e0a7-3632-41b9-ef29-2105eba89e74"
      },
      "outputs": [
        {
          "name": "stderr",
          "output_type": "stream",
          "text": [
            "[nltk_data] Downloading package stopwords to\n",
            "[nltk_data]     C:\\Users\\Ritesh\\AppData\\Roaming\\nltk_data...\n",
            "[nltk_data]   Unzipping corpora\\stopwords.zip.\n",
            "[nltk_data] Downloading package wordnet to\n",
            "[nltk_data]     C:\\Users\\Ritesh\\AppData\\Roaming\\nltk_data...\n"
          ]
        },
        {
          "data": {
            "text/plain": [
              "True"
            ]
          },
          "execution_count": 24,
          "metadata": {},
          "output_type": "execute_result"
        }
      ],
      "source": [
        "import nltk\n",
        "\n",
        "# Download the required resources(if face any error buddy )\n",
        "nltk.download('stopwords')\n",
        "nltk.download('wordnet')"
      ]
    },
    {
      "cell_type": "code",
      "execution_count": null,
      "id": "GxhFUeNcF-Ka",
      "metadata": {
        "id": "GxhFUeNcF-Ka"
      },
      "outputs": [],
      "source": [
        "def preprocessor(text):\n",
        "  text = text.lower()\n",
        "  text = re.sub(r'[^a-zA-Z0-9\\s]', '', text)\n",
        "\n",
        "  #tokenization\n",
        "  words = text.split()\n",
        "\n",
        "  #stop word removal and lemmatization\n",
        "  stop_words = set(stopwords.words('english'))\n",
        "  lemmatizer = WordNetLemmatizer()\n",
        "\n",
        "  words_without_stopwords = [i for i in words if i not in stop_words]\n",
        "  lemmatizer_words =[lemmatizer.lemmatize(i) for i in words_without_stopwords]\n",
        "\n",
        "  return \" \".join(lemmatizer_words)\n",
        "\n",
        "Messages[\"preprocess_messages\"] = Messages[\"Message\"].apply(preprocessor)\n"
      ]
    },
    {
      "cell_type": "markdown",
      "id": "bTqvt63ILBUB",
      "metadata": {
        "id": "bTqvt63ILBUB"
      },
      "source": [
        "**Feature Extraction using TF-IDF**"
      ]
    },
    {
      "cell_type": "code",
      "execution_count": null,
      "id": "-mTFUGHMJyqn",
      "metadata": {
        "id": "-mTFUGHMJyqn"
      },
      "outputs": [],
      "source": [
        "X =Messages[\"preprocess_messages\"]"
      ]
    },
    {
      "cell_type": "code",
      "execution_count": null,
      "id": "-DZNDxugJ8Wv",
      "metadata": {
        "colab": {
          "base_uri": "https://localhost:8080/",
          "height": 458
        },
        "id": "-DZNDxugJ8Wv",
        "outputId": "1fa46f8e-5d81-4b8a-d71b-15d320c99396"
      },
      "outputs": [
        {
          "data": {
            "text/plain": [
              "0        go jurong point crazy available bugis n great ...\n",
              "1                                  ok lar joking wif u oni\n",
              "2        free entry 2 wkly comp win fa cup final tkts 2...\n",
              "3                      u dun say early hor u c already say\n",
              "4                 nah dont think go usf life around though\n",
              "                               ...                        \n",
              "10157    subject fw crosstex energy driscoll ranch 1 3 ...\n",
              "10158    subject put 10 ft transport volume decreased 2...\n",
              "10159    subject 3 4 2000 following noms hpl take extra...\n",
              "10160    subject industrial worksheet august 2000 activ...\n",
              "10161    subject important online banking alert dear va...\n",
              "Name: preprocess_messages, Length: 10162, dtype: object"
            ]
          },
          "execution_count": 27,
          "metadata": {},
          "output_type": "execute_result"
        }
      ],
      "source": [
        "X"
      ]
    },
    {
      "cell_type": "code",
      "execution_count": null,
      "id": "CJtmJBwAJyoH",
      "metadata": {
        "colab": {
          "base_uri": "https://localhost:8080/"
        },
        "id": "CJtmJBwAJyoH",
        "outputId": "86c335c3-c2c6-4b6a-e251-7dc64cff6de8"
      },
      "outputs": [
        {
          "name": "stdout",
          "output_type": "stream",
          "text": [
            "<class 'pandas.core.series.Series'>\n"
          ]
        },
        {
          "data": {
            "text/plain": [
              "(10162,)"
            ]
          },
          "execution_count": 28,
          "metadata": {},
          "output_type": "execute_result"
        }
      ],
      "source": [
        "print(type(X))\n",
        "X.shape"
      ]
    },
    {
      "cell_type": "code",
      "execution_count": null,
      "id": "QxttvAMbOvWl",
      "metadata": {
        "colab": {
          "base_uri": "https://localhost:8080/",
          "height": 458
        },
        "id": "QxttvAMbOvWl",
        "outputId": "bcf1db3a-df06-4981-b115-83c51e010a4b"
      },
      "outputs": [
        {
          "data": {
            "text/plain": [
              "0        0\n",
              "1        0\n",
              "2        1\n",
              "3        0\n",
              "4        0\n",
              "        ..\n",
              "10157    0\n",
              "10158    0\n",
              "10159    0\n",
              "10160    0\n",
              "10161    1\n",
              "Name: Label, Length: 10162, dtype: int64"
            ]
          },
          "execution_count": 29,
          "metadata": {},
          "output_type": "execute_result"
        }
      ],
      "source": [
        "y=Messages[\"Label\"]\n",
        "y"
      ]
    },
    {
      "cell_type": "markdown",
      "id": "wOcDNGBFOgLm",
      "metadata": {
        "id": "wOcDNGBFOgLm"
      },
      "source": [
        "Model training , select best models"
      ]
    },
    {
      "cell_type": "code",
      "execution_count": null,
      "id": "QH3eATBcOfV5",
      "metadata": {
        "colab": {
          "base_uri": "https://localhost:8080/"
        },
        "id": "QH3eATBcOfV5",
        "outputId": "ed5ebca7-02d6-4486-aa79-665c9f311844"
      },
      "outputs": [
        {
          "data": {
            "text/plain": [
              "((7113,), (3049,), (7113,), (3049,))"
            ]
          },
          "execution_count": 30,
          "metadata": {},
          "output_type": "execute_result"
        }
      ],
      "source": [
        "from sklearn.model_selection import train_test_split\n",
        "x_train, x_test, y_train, y_test = train_test_split(X, y, test_size=0.3, random_state=42)\n",
        "x_train.shape, x_test.shape, y_train.shape, y_test.shape"
      ]
    },
    {
      "cell_type": "markdown",
      "id": "Uqzm8MnolaUV",
      "metadata": {
        "id": "Uqzm8MnolaUV"
      },
      "source": [
        "## Select the best model\n",
        "- so here we have some list of the best text classification algorithms we imported. Now we will compare each model's score and see which model is performing better than rest of the others\n",
        " - SVM\n",
        " - MultinomialNB\n",
        " - BernoulliNB\n",
        " - xgboost"
      ]
    },
    {
      "cell_type": "code",
      "execution_count": null,
      "id": "Pcq2mJw6hqnd",
      "metadata": {
        "id": "Pcq2mJw6hqnd"
      },
      "outputs": [],
      "source": [
        "\n",
        "def model_selection(X,y,models,vectorizer):\n",
        "  x_train, x_test, y_train, y_test = train_test_split(X, y, test_size=0.2, random_state=42)\n",
        "  x_train = vectorizer.fit_transform(x_train)\n",
        "  x_test = vectorizer.transform(x_test)\n",
        "\n",
        "  Models=[]\n",
        "  scores=[]\n",
        "\n",
        "  for model in models:\n",
        "    model.fit(x_train,y_train)\n",
        "    y_pred =model.predict(x_test)\n",
        "    score= accuracy_score(y_test,y_pred)\n",
        "    scores.append(score)\n",
        "    Models.append(model)\n",
        "    print(f\"{model} : {score}\")\n",
        "\n",
        "  report =pd.DataFrame()\n",
        "  report[\"Models\"]=Models\n",
        "  report[\"Scores\"]=scores\n",
        "  return report\n"
      ]
    },
    {
      "cell_type": "code",
      "execution_count": null,
      "id": "0D5_mJI6ihWp",
      "metadata": {
        "colab": {
          "base_uri": "https://localhost:8080/"
        },
        "id": "0D5_mJI6ihWp",
        "outputId": "c569d560-59af-40bb-f289-df550841f3da"
      },
      "outputs": [
        {
          "name": "stdout",
          "output_type": "stream",
          "text": [
            "SVC() : 0.9650762420068864\n",
            "MultinomialNB() : 0.897196261682243\n",
            "BernoulliNB() : 0.8548942449581899\n"
          ]
        }
      ],
      "source": [
        "from sklearn.svm import SVC\n",
        "from sklearn.naive_bayes import MultinomialNB ,BernoulliNB\n",
        "from sklearn.model_selection import train_test_split\n",
        "from sklearn.metrics import accuracy_score, classification_report, confusion_matrix\n",
        "from sklearn.feature_extraction.text import TfidfVectorizer\n",
        "from xgboost import XGBClassifier\n",
        "\n",
        "models=[\n",
        "    SVC(),\n",
        "    MultinomialNB(),\n",
        "    BernoulliNB()\n",
        "     XGBClassifier(\n",
        "        n_estimators=100,\n",
        "        learning_rate=0.1,\n",
        "        eval_metric='logloss',\n",
        "        random_state=42\n",
        "    )\n",
        "     ]\n",
        "report= model_selection(X,y,models,TfidfVectorizer())\n"
      ]
    },
    {
      "cell_type": "code",
      "execution_count": null,
      "id": "VAmlRd73j733",
      "metadata": {
        "colab": {
          "base_uri": "https://localhost:8080/",
          "height": 143
        },
        "id": "VAmlRd73j733",
        "outputId": "0e2b8a2f-c020-4ab8-d6ec-5b89b8524a3c"
      },
      "outputs": [
        {
          "data": {
            "text/html": [
              "<div>\n",
              "<style scoped>\n",
              "    .dataframe tbody tr th:only-of-type {\n",
              "        vertical-align: middle;\n",
              "    }\n",
              "\n",
              "    .dataframe tbody tr th {\n",
              "        vertical-align: top;\n",
              "    }\n",
              "\n",
              "    .dataframe thead th {\n",
              "        text-align: right;\n",
              "    }\n",
              "</style>\n",
              "<table border=\"1\" class=\"dataframe\">\n",
              "  <thead>\n",
              "    <tr style=\"text-align: right;\">\n",
              "      <th></th>\n",
              "      <th>Models</th>\n",
              "      <th>Scores</th>\n",
              "    </tr>\n",
              "  </thead>\n",
              "  <tbody>\n",
              "    <tr>\n",
              "      <th>0</th>\n",
              "      <td>SVC()</td>\n",
              "      <td>0.965076</td>\n",
              "    </tr>\n",
              "    <tr>\n",
              "      <th>1</th>\n",
              "      <td>MultinomialNB()</td>\n",
              "      <td>0.897196</td>\n",
              "    </tr>\n",
              "    <tr>\n",
              "      <th>2</th>\n",
              "      <td>BernoulliNB()</td>\n",
              "      <td>0.854894</td>\n",
              "    </tr>\n",
              "  </tbody>\n",
              "</table>\n",
              "</div>"
            ],
            "text/plain": [
              "            Models    Scores\n",
              "0            SVC()  0.965076\n",
              "1  MultinomialNB()  0.897196\n",
              "2    BernoulliNB()  0.854894"
            ]
          },
          "execution_count": 33,
          "metadata": {},
          "output_type": "execute_result"
        }
      ],
      "source": [
        "report.sort_values(by=\"Scores\",ascending=False)"
      ]
    },
    {
      "cell_type": "markdown",
      "id": "20h8a2T_mC7U",
      "metadata": {
        "id": "20h8a2T_mC7U"
      },
      "source": [
        "- ### From the report above we can see that the SVM model performed the best, so we will continue training our model."
      ]
    },
    {
      "cell_type": "code",
      "execution_count": null,
      "id": "Yjiw_Xmwl0I-",
      "metadata": {
        "colab": {
          "base_uri": "https://localhost:8080/"
        },
        "id": "Yjiw_Xmwl0I-",
        "outputId": "0758ae96-9bd1-4d47-f02d-57c619a389b3"
      },
      "outputs": [
        {
          "name": "stdout",
          "output_type": "stream",
          "text": [
            "X_train shape: (8129, 46863)\n",
            "X_test shape: (2033, 46863)\n",
            "y_train shape: (8129,)\n",
            "y_test shape: (2033,)\n"
          ]
        }
      ],
      "source": [
        "from sklearn.model_selection import train_test_split\n",
        "from sklearn.feature_extraction.text import TfidfVectorizer\n",
        "vectorizer =TfidfVectorizer()\n",
        "X_train, X_test, y_train, y_test = train_test_split(X,y, test_size=0.2, random_state=42)\n",
        "X_train = vectorizer.fit_transform(X_train)\n",
        "X_test = vectorizer.transform(X_test)\n",
        "print(\"X_train shape:\", X_train.shape)\n",
        "print(\"X_test shape:\", X_test.shape)\n",
        "print(\"y_train shape:\", y_train.shape)\n",
        "print(\"y_test shape:\", y_test.shape)"
      ]
    },
    {
      "cell_type": "markdown",
      "id": "iK51MyJDuUEh",
      "metadata": {
        "id": "iK51MyJDuUEh"
      },
      "source": [
        "SVM tries to draw the widest possible boundary between classes, so new points can be classified with maximum confidence."
      ]
    },
    {
      "cell_type": "code",
      "execution_count": 62,
      "id": "Epj8tFQmx_4b",
      "metadata": {
        "colab": {
          "base_uri": "https://localhost:8080/",
          "height": 199
        },
        "id": "Epj8tFQmx_4b",
        "outputId": "8e5741f5-a072-4724-eb1a-972f44a7509f"
      },
      "outputs": [
        {
          "metadata": {
            "tags": null
          },
          "name": "stdout",
          "output_type": "stream",
          "text": [
            "parameters : {'C': [2.11, 2.21, 2.25, 2.28, 2.35, 2.4]}\n",
            "Fitting 10 folds for each of 6 candidates, totalling 60 fits\n"
          ]
        },
        {
          "output_type": "execute_result",
          "data": {
            "text/plain": [
              "GridSearchCV(cv=10, estimator=SVC(), n_jobs=-1,\n",
              "             param_grid={'C': [2.11, 2.21, 2.25, 2.28, 2.35, 2.4]},\n",
              "             scoring='accuracy', verbose=1)"
            ],
            "text/html": [
              "<style>#sk-container-id-4 {\n",
              "  /* Definition of color scheme common for light and dark mode */\n",
              "  --sklearn-color-text: #000;\n",
              "  --sklearn-color-text-muted: #666;\n",
              "  --sklearn-color-line: gray;\n",
              "  /* Definition of color scheme for unfitted estimators */\n",
              "  --sklearn-color-unfitted-level-0: #fff5e6;\n",
              "  --sklearn-color-unfitted-level-1: #f6e4d2;\n",
              "  --sklearn-color-unfitted-level-2: #ffe0b3;\n",
              "  --sklearn-color-unfitted-level-3: chocolate;\n",
              "  /* Definition of color scheme for fitted estimators */\n",
              "  --sklearn-color-fitted-level-0: #f0f8ff;\n",
              "  --sklearn-color-fitted-level-1: #d4ebff;\n",
              "  --sklearn-color-fitted-level-2: #b3dbfd;\n",
              "  --sklearn-color-fitted-level-3: cornflowerblue;\n",
              "\n",
              "  /* Specific color for light theme */\n",
              "  --sklearn-color-text-on-default-background: var(--sg-text-color, var(--theme-code-foreground, var(--jp-content-font-color1, black)));\n",
              "  --sklearn-color-background: var(--sg-background-color, var(--theme-background, var(--jp-layout-color0, white)));\n",
              "  --sklearn-color-border-box: var(--sg-text-color, var(--theme-code-foreground, var(--jp-content-font-color1, black)));\n",
              "  --sklearn-color-icon: #696969;\n",
              "\n",
              "  @media (prefers-color-scheme: dark) {\n",
              "    /* Redefinition of color scheme for dark theme */\n",
              "    --sklearn-color-text-on-default-background: var(--sg-text-color, var(--theme-code-foreground, var(--jp-content-font-color1, white)));\n",
              "    --sklearn-color-background: var(--sg-background-color, var(--theme-background, var(--jp-layout-color0, #111)));\n",
              "    --sklearn-color-border-box: var(--sg-text-color, var(--theme-code-foreground, var(--jp-content-font-color1, white)));\n",
              "    --sklearn-color-icon: #878787;\n",
              "  }\n",
              "}\n",
              "\n",
              "#sk-container-id-4 {\n",
              "  color: var(--sklearn-color-text);\n",
              "}\n",
              "\n",
              "#sk-container-id-4 pre {\n",
              "  padding: 0;\n",
              "}\n",
              "\n",
              "#sk-container-id-4 input.sk-hidden--visually {\n",
              "  border: 0;\n",
              "  clip: rect(1px 1px 1px 1px);\n",
              "  clip: rect(1px, 1px, 1px, 1px);\n",
              "  height: 1px;\n",
              "  margin: -1px;\n",
              "  overflow: hidden;\n",
              "  padding: 0;\n",
              "  position: absolute;\n",
              "  width: 1px;\n",
              "}\n",
              "\n",
              "#sk-container-id-4 div.sk-dashed-wrapped {\n",
              "  border: 1px dashed var(--sklearn-color-line);\n",
              "  margin: 0 0.4em 0.5em 0.4em;\n",
              "  box-sizing: border-box;\n",
              "  padding-bottom: 0.4em;\n",
              "  background-color: var(--sklearn-color-background);\n",
              "}\n",
              "\n",
              "#sk-container-id-4 div.sk-container {\n",
              "  /* jupyter's `normalize.less` sets `[hidden] { display: none; }`\n",
              "     but bootstrap.min.css set `[hidden] { display: none !important; }`\n",
              "     so we also need the `!important` here to be able to override the\n",
              "     default hidden behavior on the sphinx rendered scikit-learn.org.\n",
              "     See: https://github.com/scikit-learn/scikit-learn/issues/21755 */\n",
              "  display: inline-block !important;\n",
              "  position: relative;\n",
              "}\n",
              "\n",
              "#sk-container-id-4 div.sk-text-repr-fallback {\n",
              "  display: none;\n",
              "}\n",
              "\n",
              "div.sk-parallel-item,\n",
              "div.sk-serial,\n",
              "div.sk-item {\n",
              "  /* draw centered vertical line to link estimators */\n",
              "  background-image: linear-gradient(var(--sklearn-color-text-on-default-background), var(--sklearn-color-text-on-default-background));\n",
              "  background-size: 2px 100%;\n",
              "  background-repeat: no-repeat;\n",
              "  background-position: center center;\n",
              "}\n",
              "\n",
              "/* Parallel-specific style estimator block */\n",
              "\n",
              "#sk-container-id-4 div.sk-parallel-item::after {\n",
              "  content: \"\";\n",
              "  width: 100%;\n",
              "  border-bottom: 2px solid var(--sklearn-color-text-on-default-background);\n",
              "  flex-grow: 1;\n",
              "}\n",
              "\n",
              "#sk-container-id-4 div.sk-parallel {\n",
              "  display: flex;\n",
              "  align-items: stretch;\n",
              "  justify-content: center;\n",
              "  background-color: var(--sklearn-color-background);\n",
              "  position: relative;\n",
              "}\n",
              "\n",
              "#sk-container-id-4 div.sk-parallel-item {\n",
              "  display: flex;\n",
              "  flex-direction: column;\n",
              "}\n",
              "\n",
              "#sk-container-id-4 div.sk-parallel-item:first-child::after {\n",
              "  align-self: flex-end;\n",
              "  width: 50%;\n",
              "}\n",
              "\n",
              "#sk-container-id-4 div.sk-parallel-item:last-child::after {\n",
              "  align-self: flex-start;\n",
              "  width: 50%;\n",
              "}\n",
              "\n",
              "#sk-container-id-4 div.sk-parallel-item:only-child::after {\n",
              "  width: 0;\n",
              "}\n",
              "\n",
              "/* Serial-specific style estimator block */\n",
              "\n",
              "#sk-container-id-4 div.sk-serial {\n",
              "  display: flex;\n",
              "  flex-direction: column;\n",
              "  align-items: center;\n",
              "  background-color: var(--sklearn-color-background);\n",
              "  padding-right: 1em;\n",
              "  padding-left: 1em;\n",
              "}\n",
              "\n",
              "\n",
              "/* Toggleable style: style used for estimator/Pipeline/ColumnTransformer box that is\n",
              "clickable and can be expanded/collapsed.\n",
              "- Pipeline and ColumnTransformer use this feature and define the default style\n",
              "- Estimators will overwrite some part of the style using the `sk-estimator` class\n",
              "*/\n",
              "\n",
              "/* Pipeline and ColumnTransformer style (default) */\n",
              "\n",
              "#sk-container-id-4 div.sk-toggleable {\n",
              "  /* Default theme specific background. It is overwritten whether we have a\n",
              "  specific estimator or a Pipeline/ColumnTransformer */\n",
              "  background-color: var(--sklearn-color-background);\n",
              "}\n",
              "\n",
              "/* Toggleable label */\n",
              "#sk-container-id-4 label.sk-toggleable__label {\n",
              "  cursor: pointer;\n",
              "  display: flex;\n",
              "  width: 100%;\n",
              "  margin-bottom: 0;\n",
              "  padding: 0.5em;\n",
              "  box-sizing: border-box;\n",
              "  text-align: center;\n",
              "  align-items: start;\n",
              "  justify-content: space-between;\n",
              "  gap: 0.5em;\n",
              "}\n",
              "\n",
              "#sk-container-id-4 label.sk-toggleable__label .caption {\n",
              "  font-size: 0.6rem;\n",
              "  font-weight: lighter;\n",
              "  color: var(--sklearn-color-text-muted);\n",
              "}\n",
              "\n",
              "#sk-container-id-4 label.sk-toggleable__label-arrow:before {\n",
              "  /* Arrow on the left of the label */\n",
              "  content: \"▸\";\n",
              "  float: left;\n",
              "  margin-right: 0.25em;\n",
              "  color: var(--sklearn-color-icon);\n",
              "}\n",
              "\n",
              "#sk-container-id-4 label.sk-toggleable__label-arrow:hover:before {\n",
              "  color: var(--sklearn-color-text);\n",
              "}\n",
              "\n",
              "/* Toggleable content - dropdown */\n",
              "\n",
              "#sk-container-id-4 div.sk-toggleable__content {\n",
              "  max-height: 0;\n",
              "  max-width: 0;\n",
              "  overflow: hidden;\n",
              "  text-align: left;\n",
              "  /* unfitted */\n",
              "  background-color: var(--sklearn-color-unfitted-level-0);\n",
              "}\n",
              "\n",
              "#sk-container-id-4 div.sk-toggleable__content.fitted {\n",
              "  /* fitted */\n",
              "  background-color: var(--sklearn-color-fitted-level-0);\n",
              "}\n",
              "\n",
              "#sk-container-id-4 div.sk-toggleable__content pre {\n",
              "  margin: 0.2em;\n",
              "  border-radius: 0.25em;\n",
              "  color: var(--sklearn-color-text);\n",
              "  /* unfitted */\n",
              "  background-color: var(--sklearn-color-unfitted-level-0);\n",
              "}\n",
              "\n",
              "#sk-container-id-4 div.sk-toggleable__content.fitted pre {\n",
              "  /* unfitted */\n",
              "  background-color: var(--sklearn-color-fitted-level-0);\n",
              "}\n",
              "\n",
              "#sk-container-id-4 input.sk-toggleable__control:checked~div.sk-toggleable__content {\n",
              "  /* Expand drop-down */\n",
              "  max-height: 200px;\n",
              "  max-width: 100%;\n",
              "  overflow: auto;\n",
              "}\n",
              "\n",
              "#sk-container-id-4 input.sk-toggleable__control:checked~label.sk-toggleable__label-arrow:before {\n",
              "  content: \"▾\";\n",
              "}\n",
              "\n",
              "/* Pipeline/ColumnTransformer-specific style */\n",
              "\n",
              "#sk-container-id-4 div.sk-label input.sk-toggleable__control:checked~label.sk-toggleable__label {\n",
              "  color: var(--sklearn-color-text);\n",
              "  background-color: var(--sklearn-color-unfitted-level-2);\n",
              "}\n",
              "\n",
              "#sk-container-id-4 div.sk-label.fitted input.sk-toggleable__control:checked~label.sk-toggleable__label {\n",
              "  background-color: var(--sklearn-color-fitted-level-2);\n",
              "}\n",
              "\n",
              "/* Estimator-specific style */\n",
              "\n",
              "/* Colorize estimator box */\n",
              "#sk-container-id-4 div.sk-estimator input.sk-toggleable__control:checked~label.sk-toggleable__label {\n",
              "  /* unfitted */\n",
              "  background-color: var(--sklearn-color-unfitted-level-2);\n",
              "}\n",
              "\n",
              "#sk-container-id-4 div.sk-estimator.fitted input.sk-toggleable__control:checked~label.sk-toggleable__label {\n",
              "  /* fitted */\n",
              "  background-color: var(--sklearn-color-fitted-level-2);\n",
              "}\n",
              "\n",
              "#sk-container-id-4 div.sk-label label.sk-toggleable__label,\n",
              "#sk-container-id-4 div.sk-label label {\n",
              "  /* The background is the default theme color */\n",
              "  color: var(--sklearn-color-text-on-default-background);\n",
              "}\n",
              "\n",
              "/* On hover, darken the color of the background */\n",
              "#sk-container-id-4 div.sk-label:hover label.sk-toggleable__label {\n",
              "  color: var(--sklearn-color-text);\n",
              "  background-color: var(--sklearn-color-unfitted-level-2);\n",
              "}\n",
              "\n",
              "/* Label box, darken color on hover, fitted */\n",
              "#sk-container-id-4 div.sk-label.fitted:hover label.sk-toggleable__label.fitted {\n",
              "  color: var(--sklearn-color-text);\n",
              "  background-color: var(--sklearn-color-fitted-level-2);\n",
              "}\n",
              "\n",
              "/* Estimator label */\n",
              "\n",
              "#sk-container-id-4 div.sk-label label {\n",
              "  font-family: monospace;\n",
              "  font-weight: bold;\n",
              "  display: inline-block;\n",
              "  line-height: 1.2em;\n",
              "}\n",
              "\n",
              "#sk-container-id-4 div.sk-label-container {\n",
              "  text-align: center;\n",
              "}\n",
              "\n",
              "/* Estimator-specific */\n",
              "#sk-container-id-4 div.sk-estimator {\n",
              "  font-family: monospace;\n",
              "  border: 1px dotted var(--sklearn-color-border-box);\n",
              "  border-radius: 0.25em;\n",
              "  box-sizing: border-box;\n",
              "  margin-bottom: 0.5em;\n",
              "  /* unfitted */\n",
              "  background-color: var(--sklearn-color-unfitted-level-0);\n",
              "}\n",
              "\n",
              "#sk-container-id-4 div.sk-estimator.fitted {\n",
              "  /* fitted */\n",
              "  background-color: var(--sklearn-color-fitted-level-0);\n",
              "}\n",
              "\n",
              "/* on hover */\n",
              "#sk-container-id-4 div.sk-estimator:hover {\n",
              "  /* unfitted */\n",
              "  background-color: var(--sklearn-color-unfitted-level-2);\n",
              "}\n",
              "\n",
              "#sk-container-id-4 div.sk-estimator.fitted:hover {\n",
              "  /* fitted */\n",
              "  background-color: var(--sklearn-color-fitted-level-2);\n",
              "}\n",
              "\n",
              "/* Specification for estimator info (e.g. \"i\" and \"?\") */\n",
              "\n",
              "/* Common style for \"i\" and \"?\" */\n",
              "\n",
              ".sk-estimator-doc-link,\n",
              "a:link.sk-estimator-doc-link,\n",
              "a:visited.sk-estimator-doc-link {\n",
              "  float: right;\n",
              "  font-size: smaller;\n",
              "  line-height: 1em;\n",
              "  font-family: monospace;\n",
              "  background-color: var(--sklearn-color-background);\n",
              "  border-radius: 1em;\n",
              "  height: 1em;\n",
              "  width: 1em;\n",
              "  text-decoration: none !important;\n",
              "  margin-left: 0.5em;\n",
              "  text-align: center;\n",
              "  /* unfitted */\n",
              "  border: var(--sklearn-color-unfitted-level-1) 1pt solid;\n",
              "  color: var(--sklearn-color-unfitted-level-1);\n",
              "}\n",
              "\n",
              ".sk-estimator-doc-link.fitted,\n",
              "a:link.sk-estimator-doc-link.fitted,\n",
              "a:visited.sk-estimator-doc-link.fitted {\n",
              "  /* fitted */\n",
              "  border: var(--sklearn-color-fitted-level-1) 1pt solid;\n",
              "  color: var(--sklearn-color-fitted-level-1);\n",
              "}\n",
              "\n",
              "/* On hover */\n",
              "div.sk-estimator:hover .sk-estimator-doc-link:hover,\n",
              ".sk-estimator-doc-link:hover,\n",
              "div.sk-label-container:hover .sk-estimator-doc-link:hover,\n",
              ".sk-estimator-doc-link:hover {\n",
              "  /* unfitted */\n",
              "  background-color: var(--sklearn-color-unfitted-level-3);\n",
              "  color: var(--sklearn-color-background);\n",
              "  text-decoration: none;\n",
              "}\n",
              "\n",
              "div.sk-estimator.fitted:hover .sk-estimator-doc-link.fitted:hover,\n",
              ".sk-estimator-doc-link.fitted:hover,\n",
              "div.sk-label-container:hover .sk-estimator-doc-link.fitted:hover,\n",
              ".sk-estimator-doc-link.fitted:hover {\n",
              "  /* fitted */\n",
              "  background-color: var(--sklearn-color-fitted-level-3);\n",
              "  color: var(--sklearn-color-background);\n",
              "  text-decoration: none;\n",
              "}\n",
              "\n",
              "/* Span, style for the box shown on hovering the info icon */\n",
              ".sk-estimator-doc-link span {\n",
              "  display: none;\n",
              "  z-index: 9999;\n",
              "  position: relative;\n",
              "  font-weight: normal;\n",
              "  right: .2ex;\n",
              "  padding: .5ex;\n",
              "  margin: .5ex;\n",
              "  width: min-content;\n",
              "  min-width: 20ex;\n",
              "  max-width: 50ex;\n",
              "  color: var(--sklearn-color-text);\n",
              "  box-shadow: 2pt 2pt 4pt #999;\n",
              "  /* unfitted */\n",
              "  background: var(--sklearn-color-unfitted-level-0);\n",
              "  border: .5pt solid var(--sklearn-color-unfitted-level-3);\n",
              "}\n",
              "\n",
              ".sk-estimator-doc-link.fitted span {\n",
              "  /* fitted */\n",
              "  background: var(--sklearn-color-fitted-level-0);\n",
              "  border: var(--sklearn-color-fitted-level-3);\n",
              "}\n",
              "\n",
              ".sk-estimator-doc-link:hover span {\n",
              "  display: block;\n",
              "}\n",
              "\n",
              "/* \"?\"-specific style due to the `<a>` HTML tag */\n",
              "\n",
              "#sk-container-id-4 a.estimator_doc_link {\n",
              "  float: right;\n",
              "  font-size: 1rem;\n",
              "  line-height: 1em;\n",
              "  font-family: monospace;\n",
              "  background-color: var(--sklearn-color-background);\n",
              "  border-radius: 1rem;\n",
              "  height: 1rem;\n",
              "  width: 1rem;\n",
              "  text-decoration: none;\n",
              "  /* unfitted */\n",
              "  color: var(--sklearn-color-unfitted-level-1);\n",
              "  border: var(--sklearn-color-unfitted-level-1) 1pt solid;\n",
              "}\n",
              "\n",
              "#sk-container-id-4 a.estimator_doc_link.fitted {\n",
              "  /* fitted */\n",
              "  border: var(--sklearn-color-fitted-level-1) 1pt solid;\n",
              "  color: var(--sklearn-color-fitted-level-1);\n",
              "}\n",
              "\n",
              "/* On hover */\n",
              "#sk-container-id-4 a.estimator_doc_link:hover {\n",
              "  /* unfitted */\n",
              "  background-color: var(--sklearn-color-unfitted-level-3);\n",
              "  color: var(--sklearn-color-background);\n",
              "  text-decoration: none;\n",
              "}\n",
              "\n",
              "#sk-container-id-4 a.estimator_doc_link.fitted:hover {\n",
              "  /* fitted */\n",
              "  background-color: var(--sklearn-color-fitted-level-3);\n",
              "}\n",
              "</style><div id=\"sk-container-id-4\" class=\"sk-top-container\"><div class=\"sk-text-repr-fallback\"><pre>GridSearchCV(cv=10, estimator=SVC(), n_jobs=-1,\n",
              "             param_grid={&#x27;C&#x27;: [2.11, 2.21, 2.25, 2.28, 2.35, 2.4]},\n",
              "             scoring=&#x27;accuracy&#x27;, verbose=1)</pre><b>In a Jupyter environment, please rerun this cell to show the HTML representation or trust the notebook. <br />On GitHub, the HTML representation is unable to render, please try loading this page with nbviewer.org.</b></div><div class=\"sk-container\" hidden><div class=\"sk-item sk-dashed-wrapped\"><div class=\"sk-label-container\"><div class=\"sk-label fitted sk-toggleable\"><input class=\"sk-toggleable__control sk-hidden--visually\" id=\"sk-estimator-id-10\" type=\"checkbox\" ><label for=\"sk-estimator-id-10\" class=\"sk-toggleable__label fitted sk-toggleable__label-arrow\"><div><div>GridSearchCV</div></div><div><a class=\"sk-estimator-doc-link fitted\" rel=\"noreferrer\" target=\"_blank\" href=\"https://scikit-learn.org/1.6/modules/generated/sklearn.model_selection.GridSearchCV.html\">?<span>Documentation for GridSearchCV</span></a><span class=\"sk-estimator-doc-link fitted\">i<span>Fitted</span></span></div></label><div class=\"sk-toggleable__content fitted\"><pre>GridSearchCV(cv=10, estimator=SVC(), n_jobs=-1,\n",
              "             param_grid={&#x27;C&#x27;: [2.11, 2.21, 2.25, 2.28, 2.35, 2.4]},\n",
              "             scoring=&#x27;accuracy&#x27;, verbose=1)</pre></div> </div></div><div class=\"sk-parallel\"><div class=\"sk-parallel-item\"><div class=\"sk-item\"><div class=\"sk-label-container\"><div class=\"sk-label fitted sk-toggleable\"><input class=\"sk-toggleable__control sk-hidden--visually\" id=\"sk-estimator-id-11\" type=\"checkbox\" ><label for=\"sk-estimator-id-11\" class=\"sk-toggleable__label fitted sk-toggleable__label-arrow\"><div><div>best_estimator_: SVC</div></div></label><div class=\"sk-toggleable__content fitted\"><pre>SVC(C=2.21)</pre></div> </div></div><div class=\"sk-serial\"><div class=\"sk-item\"><div class=\"sk-estimator fitted sk-toggleable\"><input class=\"sk-toggleable__control sk-hidden--visually\" id=\"sk-estimator-id-12\" type=\"checkbox\" ><label for=\"sk-estimator-id-12\" class=\"sk-toggleable__label fitted sk-toggleable__label-arrow\"><div><div>SVC</div></div><div><a class=\"sk-estimator-doc-link fitted\" rel=\"noreferrer\" target=\"_blank\" href=\"https://scikit-learn.org/1.6/modules/generated/sklearn.svm.SVC.html\">?<span>Documentation for SVC</span></a></div></label><div class=\"sk-toggleable__content fitted\"><pre>SVC(C=2.21)</pre></div> </div></div></div></div></div></div></div></div></div>"
            ]
          },
          "metadata": {},
          "execution_count": 62
        }
      ],
      "source": [
        "from sklearn.svm import SVC\n",
        "import numpy as np\n",
        "from sklearn.model_selection import GridSearchCV\n",
        "\n",
        "param={\n",
        "    \"C\": [2.11,2.21,2.25,2.28,2.35,2.4]\n",
        "}\n",
        "print(\"parameters :\",param)\n",
        "\n",
        "svc_model = SVC()\n",
        "svc_cv = GridSearchCV(svc_model, param, cv = 10,scoring=\"accuracy\",verbose=1,n_jobs=-1)\n",
        "svc_cv.fit(X_train, y_train)"
      ]
    },
    {
      "cell_type": "code",
      "execution_count": 63,
      "id": "N9BHRVgZwl3Y",
      "metadata": {
        "colab": {
          "base_uri": "https://localhost:8080/"
        },
        "id": "N9BHRVgZwl3Y",
        "outputId": "5cc65c34-ba26-41ae-bbb2-8e79f1a595ea"
      },
      "outputs": [
        {
          "output_type": "stream",
          "name": "stdout",
          "text": [
            "tuned hpyerparameters :(best parameters)  {'C': 2.21}\n",
            "accuracy : 0.9543591211774187\n"
          ]
        }
      ],
      "source": [
        "#best param\n",
        "print(\"tuned hpyerparameters :(best parameters) \",svc_cv.best_params_)\n",
        "print(\"accuracy :\",svc_cv.best_score_)\n"
      ]
    },
    {
      "cell_type": "code",
      "execution_count": 64,
      "id": "H_dLw0U8xifr",
      "metadata": {
        "colab": {
          "base_uri": "https://localhost:8080/"
        },
        "id": "H_dLw0U8xifr",
        "outputId": "0beabe8a-7a28-4380-e297-c15756ec7462"
      },
      "outputs": [
        {
          "output_type": "stream",
          "name": "stdout",
          "text": [
            "Accuracy of the model is 0.970486965076242\n",
            "The confusion matrix is: \n",
            "[[1608    7]\n",
            " [  53  365]]\n"
          ]
        }
      ],
      "source": [
        "spam_detect_model = SVC(**svc_cv.best_params_)\n",
        "spam_detect_model.fit(X_train, y_train)\n",
        "y_pred = spam_detect_model.predict(X_test)\n",
        "confusion_m = confusion_matrix(y_test, y_pred)\n",
        "accuracy = accuracy_score(y_test, y_pred)\n",
        "\n",
        "print(f\"Accuracy of the model is {accuracy}\")\n",
        "print(f\"The confusion matrix is: \\n{confusion_m}\")\n"
      ]
    },
    {
      "cell_type": "code",
      "execution_count": 65,
      "id": "RC4kazesl0AN",
      "metadata": {
        "colab": {
          "base_uri": "https://localhost:8080/"
        },
        "id": "RC4kazesl0AN",
        "outputId": "3045c677-d1ca-4fc2-d6d0-e5fd02a087f7"
      },
      "outputs": [
        {
          "metadata": {
            "tags": null
          },
          "name": "stdout",
          "output_type": "stream",
          "text": [
            "0.9240506329113924\n",
            "98.11827956989248\n"
          ]
        }
      ],
      "source": [
        "from sklearn.metrics import classification_report,precision_score,f1_score\n",
        "print(f1_score(y_test,y_pred))\n",
        "print(precision_score(y_test,y_pred)*100)"
      ]
    },
    {
      "cell_type": "code",
      "execution_count": 66,
      "id": "yXsNoSw4CN3o",
      "metadata": {
        "id": "yXsNoSw4CN3o"
      },
      "outputs": [],
      "source": [
        "import pickle\n",
        "with open(\"model.pkl\",\"wb\") as file:\n",
        "  pickle.dump(spam_detect_model,file)\n",
        "\n",
        "with open(\"vectorizer.pkl\", \"wb\") as f:\n",
        "    pickle.dump(vectorizer, f)"
      ]
    },
    {
      "cell_type": "markdown",
      "id": "urWb6PUG4cu8",
      "metadata": {
        "id": "urWb6PUG4cu8"
      },
      "source": []
    },
    {
      "cell_type": "markdown",
      "id": "9rnhpckH4JnB",
      "metadata": {
        "id": "9rnhpckH4JnB"
      },
      "source": [
        "# For flask"
      ]
    },
    {
      "cell_type": "code",
      "execution_count": 66,
      "id": "hTIs83Sm4Z7B",
      "metadata": {
        "id": "hTIs83Sm4Z7B"
      },
      "outputs": [],
      "source": []
    },
    {
      "cell_type": "code",
      "execution_count": 67,
      "id": "m3l4qbbslz3F",
      "metadata": {
        "id": "m3l4qbbslz3F"
      },
      "outputs": [],
      "source": [
        "lemmatizer = WordNetLemmatizer()\n",
        "\n",
        "def preprocess_text_unseen_data(text,vectorizer):\n",
        "  text =text.lower()\n",
        "  text = re.sub(r'[^a-zA-Z0-9\\s]', '', text)\n",
        "  words = text.split()\n",
        "  stop_words = set(stopwords.words('english'))\n",
        "  words_without_stopwords = [i for i in words if i not in stop_words]\n",
        "  lemmatizer_words =[lemmatizer.lemmatize(i) for i in words_without_stopwords]\n",
        "  documents= \" \".join(lemmatizer_words)\n",
        "  return vectorizer.transform([documents])\n"
      ]
    },
    {
      "cell_type": "code",
      "execution_count": 68,
      "id": "nUuvzvh4CmIQ",
      "metadata": {
        "id": "nUuvzvh4CmIQ"
      },
      "outputs": [],
      "source": [
        "with open(\"model.pkl\", \"rb\") as file:\n",
        "    loaded_model = pickle.load(file)\n",
        "\n",
        "with open(\"vectorizer.pkl\",\"rb\") as file:\n",
        "    loaded_vectorized= pickle.load(file)\n",
        "\n",
        "# Use it for prediction\n",
        "\n"
      ]
    },
    {
      "cell_type": "code",
      "execution_count": 69,
      "id": "z2X_O_nxOQR3",
      "metadata": {
        "colab": {
          "base_uri": "https://localhost:8080/"
        },
        "id": "z2X_O_nxOQR3",
        "outputId": "762bffd1-b577-4db8-826b-5415ca7133d0"
      },
      "outputs": [
        {
          "output_type": "stream",
          "name": "stdout",
          "text": [
            "[1]\n"
          ]
        }
      ],
      "source": [
        "text =\"FreeMsg Hey there darling it's been 3 week's now and no word back! I'd like some fun you up for it still? Tb ok! XxX std chgs to send, �1.50 to rcv\"\n",
        "preprocessed_text = preprocess_text_unseen_data(text,loaded_vectorized)\n",
        "predictions = loaded_model.predict(preprocessed_text)\n",
        "print(predictions)"
      ]
    },
    {
      "cell_type": "code",
      "execution_count": 70,
      "id": "Swaakii8lz9Q",
      "metadata": {
        "id": "Swaakii8lz9Q"
      },
      "outputs": [],
      "source": [
        "#create pipeline\n",
        "#message - lower case -remove stopwords -tokenization -lemmatization- vectorizer -prediction"
      ]
    },
    {
      "cell_type": "code",
      "execution_count": null,
      "id": "5RhuoX_GDJbH",
      "metadata": {
        "id": "5RhuoX_GDJbH"
      },
      "outputs": [],
      "source": [
        "from IPython.display import Image\n",
        "Image(filename='Gemini_Generated_Image_2nq3oj2nq3oj2nq3.png')\n",
        "# path =\"static\\images\\Gemini_Generated_Image_2nq3oj2nq3oj2nq3.png\""
      ]
    },
    {
      "cell_type": "markdown",
      "source": [],
      "metadata": {
        "id": "dQ8yZnsBNHHB"
      },
      "id": "dQ8yZnsBNHHB"
    }
  ],
  "metadata": {
    "colab": {
      "provenance": []
    },
    "kernelspec": {
      "display_name": "venv310",
      "language": "python",
      "name": "python3"
    },
    "language_info": {
      "codemirror_mode": {
        "name": "ipython",
        "version": 3
      },
      "file_extension": ".py",
      "mimetype": "text/x-python",
      "name": "python",
      "nbconvert_exporter": "python",
      "pygments_lexer": "ipython3",
      "version": "3.10.11"
    }
  },
  "nbformat": 4,
  "nbformat_minor": 5
}